{
  "nbformat": 4,
  "nbformat_minor": 0,
  "metadata": {
    "colab": {
      "name": "Anomaly Detection.ipynb",
      "provenance": [],
      "include_colab_link": true
    },
    "kernelspec": {
      "name": "python3",
      "display_name": "Python 3"
    },
    "accelerator": "GPU",
    "widgets": {
      "application/vnd.jupyter.widget-state+json": {
        "fcee68aaa81f4a28adffb1a139c8b08f": {
          "model_module": "@jupyter-widgets/controls",
          "model_name": "IntProgressModel",
          "state": {
            "_view_name": "ProgressView",
            "style": "IPY_MODEL_973a588985c6447998a2048a6589e121",
            "_dom_classes": [],
            "description": "Processing: ",
            "_model_name": "IntProgressModel",
            "bar_style": "",
            "max": 170,
            "_view_module": "@jupyter-widgets/controls",
            "_model_module_version": "1.5.0",
            "value": 170,
            "_view_count": null,
            "_view_module_version": "1.5.0",
            "orientation": "horizontal",
            "min": 0,
            "description_tooltip": null,
            "_model_module": "@jupyter-widgets/controls",
            "layout": "IPY_MODEL_5679926b36434592b69bfee95d639609"
          }
        },
        "973a588985c6447998a2048a6589e121": {
          "model_module": "@jupyter-widgets/controls",
          "model_name": "ProgressStyleModel",
          "state": {
            "_view_name": "StyleView",
            "_model_name": "ProgressStyleModel",
            "description_width": "",
            "_view_module": "@jupyter-widgets/base",
            "_model_module_version": "1.5.0",
            "_view_count": null,
            "_view_module_version": "1.2.0",
            "bar_color": null,
            "_model_module": "@jupyter-widgets/controls"
          }
        },
        "5679926b36434592b69bfee95d639609": {
          "model_module": "@jupyter-widgets/base",
          "model_name": "LayoutModel",
          "state": {
            "_view_name": "LayoutView",
            "grid_template_rows": null,
            "right": null,
            "justify_content": null,
            "_view_module": "@jupyter-widgets/base",
            "overflow": null,
            "_model_module_version": "1.2.0",
            "_view_count": null,
            "flex_flow": null,
            "width": null,
            "min_width": null,
            "border": null,
            "align_items": null,
            "bottom": null,
            "_model_module": "@jupyter-widgets/base",
            "top": null,
            "grid_column": null,
            "overflow_y": null,
            "overflow_x": null,
            "grid_auto_flow": null,
            "grid_area": null,
            "grid_template_columns": null,
            "flex": null,
            "_model_name": "LayoutModel",
            "justify_items": null,
            "grid_row": null,
            "max_height": null,
            "align_content": null,
            "visibility": null,
            "align_self": null,
            "height": null,
            "min_height": null,
            "padding": null,
            "grid_auto_rows": null,
            "grid_gap": null,
            "max_width": null,
            "order": null,
            "_view_module_version": "1.2.0",
            "grid_template_areas": null,
            "object_position": null,
            "object_fit": null,
            "grid_auto_columns": null,
            "margin": null,
            "display": null,
            "left": null
          }
        }
      }
    }
  },
  "cells": [
    {
      "cell_type": "markdown",
      "metadata": {
        "id": "view-in-github",
        "colab_type": "text"
      },
      "source": [
        "<a href=\"https://colab.research.google.com/github/parasgulati8/Fraud-Detection/blob/master/Anomaly_Detection_Pycaret.ipynb\" target=\"_parent\"><img src=\"https://colab.research.google.com/assets/colab-badge.svg\" alt=\"Open In Colab\"/></a>"
      ]
    },
    {
      "cell_type": "code",
      "metadata": {
        "id": "oMwX8JaoPunp",
        "colab_type": "code",
        "colab": {
          "base_uri": "https://localhost:8080/",
          "height": 121
        },
        "outputId": "48533782-47af-49ef-b58e-1f3fae0b67cf"
      },
      "source": [
        "from google.colab import drive\n",
        "drive.mount('/content/drive/')"
      ],
      "execution_count": null,
      "outputs": [
        {
          "output_type": "stream",
          "text": [
            "Go to this URL in a browser: https://accounts.google.com/o/oauth2/auth?client_id=947318989803-6bn6qk8qdgf4n4g3pfee6491hc0brc4i.apps.googleusercontent.com&redirect_uri=urn%3aietf%3awg%3aoauth%3a2.0%3aoob&response_type=code&scope=email%20https%3a%2f%2fwww.googleapis.com%2fauth%2fdocs.test%20https%3a%2f%2fwww.googleapis.com%2fauth%2fdrive%20https%3a%2f%2fwww.googleapis.com%2fauth%2fdrive.photos.readonly%20https%3a%2f%2fwww.googleapis.com%2fauth%2fpeopleapi.readonly\n",
            "\n",
            "Enter your authorization code:\n",
            "··········\n",
            "Mounted at /content/drive/\n"
          ],
          "name": "stdout"
        }
      ]
    },
    {
      "cell_type": "code",
      "metadata": {
        "id": "c1jPxtOQRNNh",
        "colab_type": "code",
        "colab": {
          "base_uri": "https://localhost:8080/",
          "height": 34
        },
        "outputId": "d71fa02c-7a23-4f46-fed5-73e11a867ccd"
      },
      "source": [
        "cd drive/'My Drive'/'Colab Notebooks'/dataset/"
      ],
      "execution_count": null,
      "outputs": [
        {
          "output_type": "stream",
          "text": [
            "/content/drive/My Drive/Colab Notebooks/dataset\n"
          ],
          "name": "stdout"
        }
      ]
    },
    {
      "cell_type": "code",
      "metadata": {
        "id": "uQGAfwQqbt40",
        "colab_type": "code",
        "colab": {
          "base_uri": "https://localhost:8080/",
          "height": 1000
        },
        "outputId": "de6bf0e0-6bdd-495b-c609-820aca4aee29"
      },
      "source": [
        "!pip install pycaret"
      ],
      "execution_count": null,
      "outputs": [
        {
          "output_type": "stream",
          "text": [
            "Collecting pycaret\n",
            "\u001b[?25l  Downloading https://files.pythonhosted.org/packages/c7/41/f7fa05b6ce3cb3096a35fb5ac6dc0f2bb23e8304f068618fb2501be0a562/pycaret-1.0.0-py3-none-any.whl (188kB)\n",
            "\r\u001b[K     |█▊                              | 10kB 20.4MB/s eta 0:00:01\r\u001b[K     |███▌                            | 20kB 3.7MB/s eta 0:00:01\r\u001b[K     |█████▏                          | 30kB 5.1MB/s eta 0:00:01\r\u001b[K     |███████                         | 40kB 5.5MB/s eta 0:00:01\r\u001b[K     |████████▊                       | 51kB 4.5MB/s eta 0:00:01\r\u001b[K     |██████████▍                     | 61kB 4.9MB/s eta 0:00:01\r\u001b[K     |████████████▏                   | 71kB 5.4MB/s eta 0:00:01\r\u001b[K     |██████████████                  | 81kB 5.8MB/s eta 0:00:01\r\u001b[K     |███████████████▋                | 92kB 6.3MB/s eta 0:00:01\r\u001b[K     |█████████████████▍              | 102kB 6.1MB/s eta 0:00:01\r\u001b[K     |███████████████████▏            | 112kB 6.1MB/s eta 0:00:01\r\u001b[K     |████████████████████▉           | 122kB 6.1MB/s eta 0:00:01\r\u001b[K     |██████████████████████▋         | 133kB 6.1MB/s eta 0:00:01\r\u001b[K     |████████████████████████▍       | 143kB 6.1MB/s eta 0:00:01\r\u001b[K     |██████████████████████████      | 153kB 6.1MB/s eta 0:00:01\r\u001b[K     |███████████████████████████▉    | 163kB 6.1MB/s eta 0:00:01\r\u001b[K     |█████████████████████████████▋  | 174kB 6.1MB/s eta 0:00:01\r\u001b[K     |███████████████████████████████▎| 184kB 6.1MB/s eta 0:00:01\r\u001b[K     |████████████████████████████████| 194kB 6.1MB/s \n",
            "\u001b[?25hRequirement already satisfied: nltk in /usr/local/lib/python3.6/dist-packages (from pycaret) (3.2.5)\n",
            "Requirement already satisfied: plotly==4.4.1 in /usr/local/lib/python3.6/dist-packages (from pycaret) (4.4.1)\n",
            "Collecting kmodes==0.10.1\n",
            "  Downloading https://files.pythonhosted.org/packages/79/c0/f7d8a0eb41ac6f302b4bc100f91b6e0f2558425ccfefaa0ec0430f77ee97/kmodes-0.10.1-py2.py3-none-any.whl\n",
            "Requirement already satisfied: xgboost==0.90 in /usr/local/lib/python3.6/dist-packages (from pycaret) (0.90)\n",
            "Requirement already satisfied: numpy in /usr/local/lib/python3.6/dist-packages (from pycaret) (1.18.4)\n",
            "Requirement already satisfied: textblob in /usr/local/lib/python3.6/dist-packages (from pycaret) (0.15.3)\n",
            "Requirement already satisfied: IPython in /usr/local/lib/python3.6/dist-packages (from pycaret) (5.5.0)\n",
            "Requirement already satisfied: mlxtend in /usr/local/lib/python3.6/dist-packages (from pycaret) (0.14.0)\n",
            "Collecting catboost==0.20.2\n",
            "\u001b[?25l  Downloading https://files.pythonhosted.org/packages/97/c4/586923de4634f88a31fd1b4966e15707a912b98b6f4566651b5ef58f36b5/catboost-0.20.2-cp36-none-manylinux1_x86_64.whl (63.9MB)\n",
            "\u001b[K     |████████████████████████████████| 63.9MB 52kB/s \n",
            "\u001b[?25hRequirement already satisfied: wordcloud in /usr/local/lib/python3.6/dist-packages (from pycaret) (1.5.0)\n",
            "Collecting scikit-learn==0.22\n",
            "\u001b[?25l  Downloading https://files.pythonhosted.org/packages/2e/d0/860c4f6a7027e00acff373d9f5327f4ae3ed5872234b3cbdd7bcb52e5eff/scikit_learn-0.22-cp36-cp36m-manylinux1_x86_64.whl (7.0MB)\n",
            "\u001b[K     |████████████████████████████████| 7.0MB 32.4MB/s \n",
            "\u001b[?25hRequirement already satisfied: ipywidgets in /usr/local/lib/python3.6/dist-packages (from pycaret) (7.5.1)\n",
            "Requirement already satisfied: gensim in /usr/local/lib/python3.6/dist-packages (from pycaret) (3.6.0)\n",
            "Collecting lightgbm==2.3.1\n",
            "\u001b[?25l  Downloading https://files.pythonhosted.org/packages/0b/9d/ddcb2f43aca194987f1a99e27edf41cf9bc39ea750c3371c2a62698c509a/lightgbm-2.3.1-py2.py3-none-manylinux1_x86_64.whl (1.2MB)\n",
            "\u001b[K     |████████████████████████████████| 1.2MB 42.6MB/s \n",
            "\u001b[?25hCollecting yellowbrick==1.0.1\n",
            "\u001b[?25l  Downloading https://files.pythonhosted.org/packages/d1/cf/6d6ab47c0759d246262f9bdb53e89be3814bf1774bc51fffff995f5859f9/yellowbrick-1.0.1-py3-none-any.whl (378kB)\n",
            "\u001b[K     |████████████████████████████████| 389kB 38.7MB/s \n",
            "\u001b[?25hCollecting pandas-profiling==2.3.0\n",
            "\u001b[?25l  Downloading https://files.pythonhosted.org/packages/2c/2f/aae19e2173c10a9bb7fee5f5cad35dbe53a393960fc91abc477dcc4661e8/pandas-profiling-2.3.0.tar.gz (127kB)\n",
            "\u001b[K     |████████████████████████████████| 133kB 44.8MB/s \n",
            "\u001b[?25hRequirement already satisfied: matplotlib in /usr/local/lib/python3.6/dist-packages (from pycaret) (3.2.1)\n",
            "Collecting shap==0.32.1\n",
            "\u001b[?25l  Downloading https://files.pythonhosted.org/packages/57/43/08f152a59a1d60f0328b476bdd58c791498989981ab9c6d595ec5448a86a/shap-0.32.1.tar.gz (259kB)\n",
            "\u001b[K     |████████████████████████████████| 266kB 37.8MB/s \n",
            "\u001b[?25hRequirement already satisfied: umap-learn in /usr/local/lib/python3.6/dist-packages (from pycaret) (0.4.2)\n",
            "Requirement already satisfied: pandas in /usr/local/lib/python3.6/dist-packages (from pycaret) (1.0.3)\n",
            "Requirement already satisfied: joblib in /usr/local/lib/python3.6/dist-packages (from pycaret) (0.14.1)\n",
            "Collecting awscli\n",
            "\u001b[?25l  Downloading https://files.pythonhosted.org/packages/db/79/d35f7a279ca09ede8b219549fee3c3195fef3d242d089aa8b2a678c8dc06/awscli-1.18.61-py2.py3-none-any.whl (3.0MB)\n",
            "\u001b[K     |████████████████████████████████| 3.0MB 38.5MB/s \n",
            "\u001b[?25hRequirement already satisfied: spacy in /usr/local/lib/python3.6/dist-packages (from pycaret) (2.2.4)\n",
            "Requirement already satisfied: seaborn in /usr/local/lib/python3.6/dist-packages (from pycaret) (0.10.1)\n",
            "Collecting pyLDAvis\n",
            "\u001b[?25l  Downloading https://files.pythonhosted.org/packages/a5/3a/af82e070a8a96e13217c8f362f9a73e82d61ac8fff3a2561946a97f96266/pyLDAvis-2.1.2.tar.gz (1.6MB)\n",
            "\u001b[K     |████████████████████████████████| 1.6MB 38.8MB/s \n",
            "\u001b[?25hCollecting datefinder==0.7.0\n",
            "  Downloading https://files.pythonhosted.org/packages/16/2b/af8efaee30c0ba4238cb4d0645a07100d33d11d20a8783c443ed8b813eb9/datefinder-0.7.0-py2.py3-none-any.whl\n",
            "Collecting datetime\n",
            "\u001b[?25l  Downloading https://files.pythonhosted.org/packages/73/22/a5297f3a1f92468cc737f8ce7ba6e5f245fcfafeae810ba37bd1039ea01c/DateTime-4.3-py2.py3-none-any.whl (60kB)\n",
            "\u001b[K     |████████████████████████████████| 61kB 7.5MB/s \n",
            "\u001b[?25hCollecting pyod\n",
            "\u001b[?25l  Downloading https://files.pythonhosted.org/packages/ff/8b/a8a11d822624f5bac28ba74563b4fcf6347d83c3ad452d41881e795aaf42/pyod-0.7.9.tar.gz (93kB)\n",
            "\u001b[K     |████████████████████████████████| 102kB 10.9MB/s \n",
            "\u001b[?25hCollecting cufflinks==0.17.0\n",
            "\u001b[?25l  Downloading https://files.pythonhosted.org/packages/e3/79/1b8673b2723e02919307d558896dbcedcb46807c4e29acd25cfe43a36c8b/cufflinks-0.17.0.tar.gz (81kB)\n",
            "\u001b[K     |████████████████████████████████| 81kB 8.1MB/s \n",
            "\u001b[?25hRequirement already satisfied: six in /usr/local/lib/python3.6/dist-packages (from nltk->pycaret) (1.12.0)\n",
            "Requirement already satisfied: retrying>=1.3.3 in /usr/local/lib/python3.6/dist-packages (from plotly==4.4.1->pycaret) (1.3.3)\n",
            "Requirement already satisfied: scipy>=0.13.3 in /usr/local/lib/python3.6/dist-packages (from kmodes==0.10.1->pycaret) (1.4.1)\n",
            "Requirement already satisfied: simplegeneric>0.8 in /usr/local/lib/python3.6/dist-packages (from IPython->pycaret) (0.8.1)\n",
            "Requirement already satisfied: pexpect; sys_platform != \"win32\" in /usr/local/lib/python3.6/dist-packages (from IPython->pycaret) (4.8.0)\n",
            "Requirement already satisfied: pygments in /usr/local/lib/python3.6/dist-packages (from IPython->pycaret) (2.1.3)\n",
            "Requirement already satisfied: pickleshare in /usr/local/lib/python3.6/dist-packages (from IPython->pycaret) (0.7.5)\n",
            "Requirement already satisfied: decorator in /usr/local/lib/python3.6/dist-packages (from IPython->pycaret) (4.4.2)\n",
            "Requirement already satisfied: setuptools>=18.5 in /usr/local/lib/python3.6/dist-packages (from IPython->pycaret) (46.3.0)\n",
            "Requirement already satisfied: prompt-toolkit<2.0.0,>=1.0.4 in /usr/local/lib/python3.6/dist-packages (from IPython->pycaret) (1.0.18)\n",
            "Requirement already satisfied: traitlets>=4.2 in /usr/local/lib/python3.6/dist-packages (from IPython->pycaret) (4.3.3)\n",
            "Requirement already satisfied: graphviz in /usr/local/lib/python3.6/dist-packages (from catboost==0.20.2->pycaret) (0.10.1)\n",
            "Requirement already satisfied: pillow in /usr/local/lib/python3.6/dist-packages (from wordcloud->pycaret) (7.0.0)\n",
            "Requirement already satisfied: nbformat>=4.2.0 in /usr/local/lib/python3.6/dist-packages (from ipywidgets->pycaret) (5.0.6)\n",
            "Requirement already satisfied: ipykernel>=4.5.1 in /usr/local/lib/python3.6/dist-packages (from ipywidgets->pycaret) (4.10.1)\n",
            "Requirement already satisfied: widgetsnbextension~=3.5.0 in /usr/local/lib/python3.6/dist-packages (from ipywidgets->pycaret) (3.5.1)\n",
            "Requirement already satisfied: smart-open>=1.2.1 in /usr/local/lib/python3.6/dist-packages (from gensim->pycaret) (2.0.0)\n",
            "Requirement already satisfied: cycler>=0.10.0 in /usr/local/lib/python3.6/dist-packages (from yellowbrick==1.0.1->pycaret) (0.10.0)\n",
            "Requirement already satisfied: jinja2>=2.8 in /usr/local/lib/python3.6/dist-packages (from pandas-profiling==2.3.0->pycaret) (2.11.2)\n",
            "Requirement already satisfied: missingno>=0.4.2 in /usr/local/lib/python3.6/dist-packages (from pandas-profiling==2.3.0->pycaret) (0.4.2)\n",
            "Collecting htmlmin>=0.1.12\n",
            "  Downloading https://files.pythonhosted.org/packages/b3/e7/fcd59e12169de19f0131ff2812077f964c6b960e7c09804d30a7bf2ab461/htmlmin-0.1.12.tar.gz\n",
            "Collecting phik>=0.9.8\n",
            "\u001b[?25l  Downloading https://files.pythonhosted.org/packages/a7/86/572cecb01a104e0a12c002b0de74340fc6358aefa90cce39d5e2ffca2980/phik-0.9.12-py3-none-any.whl (610kB)\n",
            "\u001b[K     |████████████████████████████████| 614kB 30.7MB/s \n",
            "\u001b[?25hCollecting confuse>=1.0.0\n",
            "  Downloading https://files.pythonhosted.org/packages/f7/64/85dbcea372efee5cba13eaa10a3bfa7019b8fe0c3c8314d8e189116e477a/confuse-1.1.0.tar.gz\n",
            "Requirement already satisfied: astropy in /usr/local/lib/python3.6/dist-packages (from pandas-profiling==2.3.0->pycaret) (4.0.1.post1)\n",
            "Requirement already satisfied: python-dateutil>=2.1 in /usr/local/lib/python3.6/dist-packages (from matplotlib->pycaret) (2.8.1)\n",
            "Requirement already satisfied: kiwisolver>=1.0.1 in /usr/local/lib/python3.6/dist-packages (from matplotlib->pycaret) (1.2.0)\n",
            "Requirement already satisfied: pyparsing!=2.0.4,!=2.1.2,!=2.1.6,>=2.0.1 in /usr/local/lib/python3.6/dist-packages (from matplotlib->pycaret) (2.4.7)\n",
            "Requirement already satisfied: tqdm>4.25.0 in /usr/local/lib/python3.6/dist-packages (from shap==0.32.1->pycaret) (4.41.1)\n",
            "Requirement already satisfied: tbb>=2019.0 in /usr/local/lib/python3.6/dist-packages (from umap-learn->pycaret) (2020.0.133)\n",
            "Requirement already satisfied: numba!=0.47,>=0.46 in /usr/local/lib/python3.6/dist-packages (from umap-learn->pycaret) (0.48.0)\n",
            "Requirement already satisfied: pytz>=2017.2 in /usr/local/lib/python3.6/dist-packages (from pandas->pycaret) (2018.9)\n",
            "Requirement already satisfied: docutils<0.16,>=0.10 in /usr/local/lib/python3.6/dist-packages (from awscli->pycaret) (0.15.2)\n",
            "Requirement already satisfied: s3transfer<0.4.0,>=0.3.0 in /usr/local/lib/python3.6/dist-packages (from awscli->pycaret) (0.3.3)\n",
            "Collecting botocore==1.16.11\n",
            "\u001b[?25l  Downloading https://files.pythonhosted.org/packages/b0/4c/36f5203d7c9a7a9c25fc8185db523483168e44363fe9bc6e757533163b5e/botocore-1.16.11-py2.py3-none-any.whl (6.2MB)\n",
            "\u001b[K     |████████████████████████████████| 6.2MB 22.5MB/s \n",
            "\u001b[?25hCollecting colorama<0.4.4,>=0.2.5; python_version != \"3.4\"\n",
            "  Downloading https://files.pythonhosted.org/packages/c9/dc/45cdef1b4d119eb96316b3117e6d5708a08029992b2fee2c143c7a0a5cc5/colorama-0.4.3-py2.py3-none-any.whl\n",
            "Collecting rsa<=3.5.0,>=3.1.2\n",
            "\u001b[?25l  Downloading https://files.pythonhosted.org/packages/e1/ae/baedc9cb175552e95f3395c43055a6a5e125ae4d48a1d7a924baca83e92e/rsa-3.4.2-py2.py3-none-any.whl (46kB)\n",
            "\u001b[K     |████████████████████████████████| 51kB 7.1MB/s \n",
            "\u001b[?25hRequirement already satisfied: PyYAML<5.4,>=3.10; python_version != \"3.4\" in /usr/local/lib/python3.6/dist-packages (from awscli->pycaret) (3.13)\n",
            "Requirement already satisfied: preshed<3.1.0,>=3.0.2 in /usr/local/lib/python3.6/dist-packages (from spacy->pycaret) (3.0.2)\n",
            "Requirement already satisfied: murmurhash<1.1.0,>=0.28.0 in /usr/local/lib/python3.6/dist-packages (from spacy->pycaret) (1.0.2)\n",
            "Requirement already satisfied: cymem<2.1.0,>=2.0.2 in /usr/local/lib/python3.6/dist-packages (from spacy->pycaret) (2.0.3)\n",
            "Requirement already satisfied: plac<1.2.0,>=0.9.6 in /usr/local/lib/python3.6/dist-packages (from spacy->pycaret) (1.1.3)\n",
            "Requirement already satisfied: thinc==7.4.0 in /usr/local/lib/python3.6/dist-packages (from spacy->pycaret) (7.4.0)\n",
            "Requirement already satisfied: wasabi<1.1.0,>=0.4.0 in /usr/local/lib/python3.6/dist-packages (from spacy->pycaret) (0.6.0)\n",
            "Requirement already satisfied: blis<0.5.0,>=0.4.0 in /usr/local/lib/python3.6/dist-packages (from spacy->pycaret) (0.4.1)\n",
            "Requirement already satisfied: catalogue<1.1.0,>=0.0.7 in /usr/local/lib/python3.6/dist-packages (from spacy->pycaret) (1.0.0)\n",
            "Requirement already satisfied: srsly<1.1.0,>=1.0.2 in /usr/local/lib/python3.6/dist-packages (from spacy->pycaret) (1.0.2)\n",
            "Requirement already satisfied: requests<3.0.0,>=2.13.0 in /usr/local/lib/python3.6/dist-packages (from spacy->pycaret) (2.23.0)\n",
            "Requirement already satisfied: wheel>=0.23.0 in /usr/local/lib/python3.6/dist-packages (from pyLDAvis->pycaret) (0.34.2)\n",
            "Requirement already satisfied: numexpr in /usr/local/lib/python3.6/dist-packages (from pyLDAvis->pycaret) (2.7.1)\n",
            "Requirement already satisfied: pytest in /usr/local/lib/python3.6/dist-packages (from pyLDAvis->pycaret) (3.6.4)\n",
            "Requirement already satisfied: future in /usr/local/lib/python3.6/dist-packages (from pyLDAvis->pycaret) (0.16.0)\n",
            "Collecting funcy\n",
            "\u001b[?25l  Downloading https://files.pythonhosted.org/packages/ce/4b/6ffa76544e46614123de31574ad95758c421aae391a1764921b8a81e1eae/funcy-1.14.tar.gz (548kB)\n",
            "\u001b[K     |████████████████████████████████| 552kB 42.7MB/s \n",
            "\u001b[?25hRequirement already satisfied: regex>=2017.02.08 in /usr/local/lib/python3.6/dist-packages (from datefinder==0.7.0->pycaret) (2019.12.20)\n",
            "Collecting zope.interface\n",
            "\u001b[?25l  Downloading https://files.pythonhosted.org/packages/57/33/565274c28a11af60b7cfc0519d46bde4125fcd7d32ebc0a81b480d0e8da6/zope.interface-5.1.0-cp36-cp36m-manylinux2010_x86_64.whl (234kB)\n",
            "\u001b[K     |████████████████████████████████| 235kB 44.7MB/s \n",
            "\u001b[?25hCollecting combo\n",
            "  Downloading https://files.pythonhosted.org/packages/78/52/e880bd923eba122515307d29ab43c1c356bad60610c27bed2cdec25d0240/combo-0.1.0.tar.gz\n",
            "Collecting suod\n",
            "\u001b[?25l  Downloading https://files.pythonhosted.org/packages/a1/87/9170cabe1b5e10a7d095c0e28f2e30e7c1886a13f063de85d3cfacc06f4b/suod-0.0.4.tar.gz (2.1MB)\n",
            "\u001b[K     |████████████████████████████████| 2.1MB 24.3MB/s \n",
            "\u001b[?25hCollecting chart-studio>=1.0.0\n",
            "\u001b[?25l  Downloading https://files.pythonhosted.org/packages/ca/ce/330794a6b6ca4b9182c38fc69dd2a9cbff60fd49421cb8648ee5fee352dc/chart_studio-1.1.0-py3-none-any.whl (64kB)\n",
            "\u001b[K     |████████████████████████████████| 71kB 8.0MB/s \n",
            "\u001b[?25hRequirement already satisfied: colorlover>=0.2.1 in /usr/local/lib/python3.6/dist-packages (from cufflinks==0.17.0->pycaret) (0.3.0)\n",
            "Requirement already satisfied: ptyprocess>=0.5 in /usr/local/lib/python3.6/dist-packages (from pexpect; sys_platform != \"win32\"->IPython->pycaret) (0.6.0)\n",
            "Requirement already satisfied: wcwidth in /usr/local/lib/python3.6/dist-packages (from prompt-toolkit<2.0.0,>=1.0.4->IPython->pycaret) (0.1.9)\n",
            "Requirement already satisfied: ipython-genutils in /usr/local/lib/python3.6/dist-packages (from traitlets>=4.2->IPython->pycaret) (0.2.0)\n",
            "Requirement already satisfied: jsonschema!=2.5.0,>=2.4 in /usr/local/lib/python3.6/dist-packages (from nbformat>=4.2.0->ipywidgets->pycaret) (2.6.0)\n",
            "Requirement already satisfied: jupyter-core in /usr/local/lib/python3.6/dist-packages (from nbformat>=4.2.0->ipywidgets->pycaret) (4.6.3)\n",
            "Requirement already satisfied: tornado>=4.0 in /usr/local/lib/python3.6/dist-packages (from ipykernel>=4.5.1->ipywidgets->pycaret) (4.5.3)\n",
            "Requirement already satisfied: jupyter-client in /usr/local/lib/python3.6/dist-packages (from ipykernel>=4.5.1->ipywidgets->pycaret) (5.3.4)\n",
            "Requirement already satisfied: notebook>=4.4.1 in /usr/local/lib/python3.6/dist-packages (from widgetsnbextension~=3.5.0->ipywidgets->pycaret) (5.2.2)\n",
            "Requirement already satisfied: boto3 in /usr/local/lib/python3.6/dist-packages (from smart-open>=1.2.1->gensim->pycaret) (1.13.4)\n",
            "Requirement already satisfied: boto in /usr/local/lib/python3.6/dist-packages (from smart-open>=1.2.1->gensim->pycaret) (2.49.0)\n",
            "Requirement already satisfied: MarkupSafe>=0.23 in /usr/local/lib/python3.6/dist-packages (from jinja2>=2.8->pandas-profiling==2.3.0->pycaret) (1.1.1)\n",
            "Requirement already satisfied: llvmlite<0.32.0,>=0.31.0dev0 in /usr/local/lib/python3.6/dist-packages (from numba!=0.47,>=0.46->umap-learn->pycaret) (0.31.0)\n",
            "Requirement already satisfied: urllib3<1.26,>=1.20; python_version != \"3.4\" in /usr/local/lib/python3.6/dist-packages (from botocore==1.16.11->awscli->pycaret) (1.24.3)\n",
            "Requirement already satisfied: jmespath<1.0.0,>=0.7.1 in /usr/local/lib/python3.6/dist-packages (from botocore==1.16.11->awscli->pycaret) (0.9.5)\n",
            "Requirement already satisfied: pyasn1>=0.1.3 in /usr/local/lib/python3.6/dist-packages (from rsa<=3.5.0,>=3.1.2->awscli->pycaret) (0.4.8)\n",
            "Requirement already satisfied: importlib-metadata>=0.20; python_version < \"3.8\" in /usr/local/lib/python3.6/dist-packages (from catalogue<1.1.0,>=0.0.7->spacy->pycaret) (1.6.0)\n",
            "Requirement already satisfied: chardet<4,>=3.0.2 in /usr/local/lib/python3.6/dist-packages (from requests<3.0.0,>=2.13.0->spacy->pycaret) (3.0.4)\n",
            "Requirement already satisfied: idna<3,>=2.5 in /usr/local/lib/python3.6/dist-packages (from requests<3.0.0,>=2.13.0->spacy->pycaret) (2.9)\n",
            "Requirement already satisfied: certifi>=2017.4.17 in /usr/local/lib/python3.6/dist-packages (from requests<3.0.0,>=2.13.0->spacy->pycaret) (2020.4.5.1)\n",
            "Requirement already satisfied: more-itertools>=4.0.0 in /usr/local/lib/python3.6/dist-packages (from pytest->pyLDAvis->pycaret) (8.2.0)\n",
            "Requirement already satisfied: atomicwrites>=1.0 in /usr/local/lib/python3.6/dist-packages (from pytest->pyLDAvis->pycaret) (1.4.0)\n",
            "Requirement already satisfied: pluggy<0.8,>=0.5 in /usr/local/lib/python3.6/dist-packages (from pytest->pyLDAvis->pycaret) (0.7.1)\n",
            "Requirement already satisfied: py>=1.5.0 in /usr/local/lib/python3.6/dist-packages (from pytest->pyLDAvis->pycaret) (1.8.1)\n",
            "Requirement already satisfied: attrs>=17.4.0 in /usr/local/lib/python3.6/dist-packages (from pytest->pyLDAvis->pycaret) (19.3.0)\n",
            "Requirement already satisfied: pyzmq>=13 in /usr/local/lib/python3.6/dist-packages (from jupyter-client->ipykernel>=4.5.1->ipywidgets->pycaret) (19.0.1)\n",
            "Requirement already satisfied: nbconvert in /usr/local/lib/python3.6/dist-packages (from notebook>=4.4.1->widgetsnbextension~=3.5.0->ipywidgets->pycaret) (5.6.1)\n",
            "Requirement already satisfied: terminado>=0.3.3; sys_platform != \"win32\" in /usr/local/lib/python3.6/dist-packages (from notebook>=4.4.1->widgetsnbextension~=3.5.0->ipywidgets->pycaret) (0.8.3)\n",
            "Requirement already satisfied: zipp>=0.5 in /usr/local/lib/python3.6/dist-packages (from importlib-metadata>=0.20; python_version < \"3.8\"->catalogue<1.1.0,>=0.0.7->spacy->pycaret) (3.1.0)\n",
            "Requirement already satisfied: entrypoints>=0.2.2 in /usr/local/lib/python3.6/dist-packages (from nbconvert->notebook>=4.4.1->widgetsnbextension~=3.5.0->ipywidgets->pycaret) (0.3)\n",
            "Requirement already satisfied: bleach in /usr/local/lib/python3.6/dist-packages (from nbconvert->notebook>=4.4.1->widgetsnbextension~=3.5.0->ipywidgets->pycaret) (3.1.5)\n",
            "Requirement already satisfied: defusedxml in /usr/local/lib/python3.6/dist-packages (from nbconvert->notebook>=4.4.1->widgetsnbextension~=3.5.0->ipywidgets->pycaret) (0.6.0)\n",
            "Requirement already satisfied: pandocfilters>=1.4.1 in /usr/local/lib/python3.6/dist-packages (from nbconvert->notebook>=4.4.1->widgetsnbextension~=3.5.0->ipywidgets->pycaret) (1.4.2)\n",
            "Requirement already satisfied: mistune<2,>=0.8.1 in /usr/local/lib/python3.6/dist-packages (from nbconvert->notebook>=4.4.1->widgetsnbextension~=3.5.0->ipywidgets->pycaret) (0.8.4)\n",
            "Requirement already satisfied: testpath in /usr/local/lib/python3.6/dist-packages (from nbconvert->notebook>=4.4.1->widgetsnbextension~=3.5.0->ipywidgets->pycaret) (0.4.4)\n",
            "Requirement already satisfied: packaging in /usr/local/lib/python3.6/dist-packages (from bleach->nbconvert->notebook>=4.4.1->widgetsnbextension~=3.5.0->ipywidgets->pycaret) (20.3)\n",
            "Requirement already satisfied: webencodings in /usr/local/lib/python3.6/dist-packages (from bleach->nbconvert->notebook>=4.4.1->widgetsnbextension~=3.5.0->ipywidgets->pycaret) (0.5.1)\n",
            "Building wheels for collected packages: pandas-profiling, shap, pyLDAvis, pyod, cufflinks, htmlmin, confuse, funcy, combo, suod\n",
            "  Building wheel for pandas-profiling (setup.py) ... \u001b[?25l\u001b[?25hdone\n",
            "  Created wheel for pandas-profiling: filename=pandas_profiling-2.3.0-py2.py3-none-any.whl size=145035 sha256=282a60bf550d27d1c67446684d243aedc8d6760d50f714640513c590dbe9ffa3\n",
            "  Stored in directory: /root/.cache/pip/wheels/ce/c7/f1/dbfef4848ebb048cb1d4a22d1ed0c62d8ff2523747235e19fe\n",
            "  Building wheel for shap (setup.py) ... \u001b[?25l\u001b[?25hdone\n",
            "  Created wheel for shap: filename=shap-0.32.1-cp36-cp36m-linux_x86_64.whl size=376807 sha256=92d25b061c2e2a68826560026ddf44a82b9542f77ac08f8ef611a8499f122636\n",
            "  Stored in directory: /root/.cache/pip/wheels/8e/b2/50/8fadb5a59789cb5bdeb01b800223be540651ae92915172050b\n",
            "  Building wheel for pyLDAvis (setup.py) ... \u001b[?25l\u001b[?25hdone\n",
            "  Created wheel for pyLDAvis: filename=pyLDAvis-2.1.2-py2.py3-none-any.whl size=97711 sha256=8d5822bc5d6cbf329070f71eaaddb95625a06a08c0c69c31ee3b869332ad81a0\n",
            "  Stored in directory: /root/.cache/pip/wheels/98/71/24/513a99e58bb6b8465bae4d2d5e9dba8f0bef8179e3051ac414\n",
            "  Building wheel for pyod (setup.py) ... \u001b[?25l\u001b[?25hdone\n",
            "  Created wheel for pyod: filename=pyod-0.7.9-cp36-none-any.whl size=105568 sha256=f9df9e0f07ade15b272d8c1bf6b8b0258b8804cfcc90994cef34bc901b8f9fb1\n",
            "  Stored in directory: /root/.cache/pip/wheels/f2/67/a4/ff47e0efaf4a93617047d2be52862dda80a848ff5c67bfb18d\n",
            "  Building wheel for cufflinks (setup.py) ... \u001b[?25l\u001b[?25hdone\n",
            "  Created wheel for cufflinks: filename=cufflinks-0.17.0-cp36-none-any.whl size=67744 sha256=a59dbda0dbc187bf908dde1eb308356f7d2e402c782d816e82bfaac5fb1dc7c5\n",
            "  Stored in directory: /root/.cache/pip/wheels/44/d7/dc/e830ab00bc2dd3b2731295103baa070f8cbdda8891f71a7a8d\n",
            "  Building wheel for htmlmin (setup.py) ... \u001b[?25l\u001b[?25hdone\n",
            "  Created wheel for htmlmin: filename=htmlmin-0.1.12-cp36-none-any.whl size=27084 sha256=b39aff789b182e53bb1b17302ed9d36cf23683a84b5e989b0dbf1383f1568530\n",
            "  Stored in directory: /root/.cache/pip/wheels/43/07/ac/7c5a9d708d65247ac1f94066cf1db075540b85716c30255459\n",
            "  Building wheel for confuse (setup.py) ... \u001b[?25l\u001b[?25hdone\n",
            "  Created wheel for confuse: filename=confuse-1.1.0-cp36-none-any.whl size=17574 sha256=1986b64fecebb37ace4f4d2d75532a79823d32fa3e14d94a4d5516fe68a99820\n",
            "  Stored in directory: /root/.cache/pip/wheels/f6/8b/23/41a1b516f6d8d4cc81f5bdb55394a47cdbe9659c53668d3c9e\n",
            "  Building wheel for funcy (setup.py) ... \u001b[?25l\u001b[?25hdone\n",
            "  Created wheel for funcy: filename=funcy-1.14-py2.py3-none-any.whl size=32042 sha256=840b3b95dca227b130940859a2ac8bb95548fed39a65d34a686bb495d38bad62\n",
            "  Stored in directory: /root/.cache/pip/wheels/20/5a/d8/1d875df03deae6f178dfdf70238cca33f948ef8a6f5209f2eb\n",
            "  Building wheel for combo (setup.py) ... \u001b[?25l\u001b[?25hdone\n",
            "  Created wheel for combo: filename=combo-0.1.0-cp36-none-any.whl size=42043 sha256=ddf6c9c1824f8a424005d68354ae6a70cf5da0b93ad70a04680fde9286d7ceb4\n",
            "  Stored in directory: /root/.cache/pip/wheels/00/fd/6c/8da495ef08ce61844a646df2423c2b8ecda377a89c90ecd88e\n",
            "  Building wheel for suod (setup.py) ... \u001b[?25l\u001b[?25hdone\n",
            "  Created wheel for suod: filename=suod-0.0.4-cp36-none-any.whl size=2167157 sha256=b97a2488bb110d3227cc1dcffcfb01b8ae8d4b10d694aaf25c5afbbf4ee2af13\n",
            "  Stored in directory: /root/.cache/pip/wheels/57/55/e5/a4fca65bba231f6d0115059b589148774b41faea25b3f2aa27\n",
            "Successfully built pandas-profiling shap pyLDAvis pyod cufflinks htmlmin confuse funcy combo suod\n",
            "Installing collected packages: scikit-learn, kmodes, catboost, lightgbm, yellowbrick, htmlmin, phik, confuse, pandas-profiling, shap, botocore, colorama, rsa, awscli, funcy, pyLDAvis, datefinder, zope.interface, datetime, combo, suod, pyod, chart-studio, cufflinks, pycaret\n",
            "  Found existing installation: scikit-learn 0.22.2.post1\n",
            "    Uninstalling scikit-learn-0.22.2.post1:\n",
            "      Successfully uninstalled scikit-learn-0.22.2.post1\n",
            "  Found existing installation: lightgbm 2.2.3\n",
            "    Uninstalling lightgbm-2.2.3:\n",
            "      Successfully uninstalled lightgbm-2.2.3\n",
            "  Found existing installation: yellowbrick 0.9.1\n",
            "    Uninstalling yellowbrick-0.9.1:\n",
            "      Successfully uninstalled yellowbrick-0.9.1\n",
            "  Found existing installation: pandas-profiling 1.4.1\n",
            "    Uninstalling pandas-profiling-1.4.1:\n",
            "      Successfully uninstalled pandas-profiling-1.4.1\n",
            "  Found existing installation: botocore 1.16.4\n",
            "    Uninstalling botocore-1.16.4:\n",
            "      Successfully uninstalled botocore-1.16.4\n",
            "  Found existing installation: rsa 4.0\n",
            "    Uninstalling rsa-4.0:\n",
            "      Successfully uninstalled rsa-4.0\n",
            "  Found existing installation: cufflinks 0.17.3\n",
            "    Uninstalling cufflinks-0.17.3:\n",
            "      Successfully uninstalled cufflinks-0.17.3\n",
            "Successfully installed awscli-1.18.61 botocore-1.16.11 catboost-0.20.2 chart-studio-1.1.0 colorama-0.4.3 combo-0.1.0 confuse-1.1.0 cufflinks-0.17.0 datefinder-0.7.0 datetime-4.3 funcy-1.14 htmlmin-0.1.12 kmodes-0.10.1 lightgbm-2.3.1 pandas-profiling-2.3.0 phik-0.9.12 pyLDAvis-2.1.2 pycaret-1.0.0 pyod-0.7.9 rsa-3.4.2 scikit-learn-0.22 shap-0.32.1 suod-0.0.4 yellowbrick-1.0.1 zope.interface-5.1.0\n"
          ],
          "name": "stdout"
        },
        {
          "output_type": "display_data",
          "data": {
            "application/vnd.colab-display-data+json": {
              "pip_warning": {
                "packages": [
                  "rsa",
                  "sklearn"
                ]
              }
            }
          },
          "metadata": {
            "tags": []
          }
        }
      ]
    },
    {
      "cell_type": "code",
      "metadata": {
        "id": "zs57oTvOCn-p",
        "colab_type": "code",
        "colab": {}
      },
      "source": [
        "import numpy as np\n",
        "import pandas as pd\n",
        "import matplotlib.pyplot as plt\n",
        "\n",
        "import itertools\n",
        "from sklearn.metrics import accuracy_score\n",
        "from sklearn.model_selection import train_test_split, StratifiedKFold\n",
        "from sklearn.ensemble import RandomForestClassifier\n",
        "from sklearn.metrics import confusion_matrix\n",
        "from sklearn.neighbors import KNeighborsClassifier\n",
        "from sklearn.metrics import classification_report\n",
        "from sklearn.metrics import cohen_kappa_score\n",
        "from sklearn.linear_model import LogisticRegression\n",
        "from sklearn.naive_bayes import GaussianNB\n",
        "from sklearn.svm import SVC\n",
        "from xgboost import XGBClassifier\n",
        "from sklearn.ensemble import VotingClassifier"
      ],
      "execution_count": null,
      "outputs": []
    },
    {
      "cell_type": "code",
      "metadata": {
        "id": "0s5VkWgzcoem",
        "colab_type": "code",
        "colab": {}
      },
      "source": [
        "# -*- coding: utf-8 -*-\n",
        "\"\"\"\n",
        "Created on Mon Feb  4 13:25:04 2019\n",
        "\n",
        "@author: paras\n",
        "\"\"\"\n",
        "dataset = pd.read_csv('creditcard.csv')\n",
        "X = dataset.iloc[:, :-1].values\n",
        "y = dataset.iloc[:, 30].values"
      ],
      "execution_count": null,
      "outputs": []
    },
    {
      "cell_type": "code",
      "metadata": {
        "id": "PuS62wQycGcj",
        "colab_type": "code",
        "colab": {
          "base_uri": "https://localhost:8080/",
          "height": 313
        },
        "outputId": "94e20f5f-a205-4474-a09e-c5b8de67147a"
      },
      "source": [
        "from pycaret.classification import *\n",
        "clf1 = setup(data = dataset, target = 'Class')"
      ],
      "execution_count": 1,
      "outputs": [
        {
          "output_type": "error",
          "ename": "ModuleNotFoundError",
          "evalue": "ignored",
          "traceback": [
            "\u001b[0;31m---------------------------------------------------------------------------\u001b[0m",
            "\u001b[0;31mModuleNotFoundError\u001b[0m                       Traceback (most recent call last)",
            "\u001b[0;32m<ipython-input-1-f0e24636043c>\u001b[0m in \u001b[0;36m<module>\u001b[0;34m()\u001b[0m\n\u001b[0;32m----> 1\u001b[0;31m \u001b[0;32mfrom\u001b[0m \u001b[0mpycaret\u001b[0m\u001b[0;34m.\u001b[0m\u001b[0mclassification\u001b[0m \u001b[0;32mimport\u001b[0m \u001b[0;34m*\u001b[0m\u001b[0;34m\u001b[0m\u001b[0;34m\u001b[0m\u001b[0m\n\u001b[0m\u001b[1;32m      2\u001b[0m \u001b[0mclf1\u001b[0m \u001b[0;34m=\u001b[0m \u001b[0msetup\u001b[0m\u001b[0;34m(\u001b[0m\u001b[0mdata\u001b[0m \u001b[0;34m=\u001b[0m \u001b[0mdataset\u001b[0m\u001b[0;34m,\u001b[0m \u001b[0mtarget\u001b[0m \u001b[0;34m=\u001b[0m \u001b[0;34m'Class'\u001b[0m\u001b[0;34m)\u001b[0m\u001b[0;34m\u001b[0m\u001b[0;34m\u001b[0m\u001b[0m\n",
            "\u001b[0;31mModuleNotFoundError\u001b[0m: No module named 'pycaret'",
            "",
            "\u001b[0;31m---------------------------------------------------------------------------\u001b[0;32m\nNOTE: If your import is failing due to a missing package, you can\nmanually install dependencies using either !pip or !apt.\n\nTo view examples of installing some common dependencies, click the\n\"Open Examples\" button below.\n\u001b[0;31m---------------------------------------------------------------------------\u001b[0m\n"
          ]
        }
      ]
    },
    {
      "cell_type": "code",
      "metadata": {
        "id": "vX2FbvQQdP7M",
        "colab_type": "code",
        "colab": {
          "base_uri": "https://localhost:8080/",
          "height": 338,
          "referenced_widgets": [
            "fcee68aaa81f4a28adffb1a139c8b08f",
            "973a588985c6447998a2048a6589e121",
            "5679926b36434592b69bfee95d639609"
          ]
        },
        "outputId": "27a777ee-d77b-4b4d-d20e-4a3401d2aafa"
      },
      "source": [
        "compare_models()"
      ],
      "execution_count": null,
      "outputs": [
        {
          "output_type": "execute_result",
          "data": {
            "text/html": [
              "<style  type=\"text/css\" >\n",
              "    #T_4fae1c5a_9889_11ea_b593_0242ac1c0002 th {\n",
              "          text-align: left;\n",
              "    }    #T_4fae1c5a_9889_11ea_b593_0242ac1c0002row0_col0 {\n",
              "            text-align:  left;\n",
              "        }    #T_4fae1c5a_9889_11ea_b593_0242ac1c0002row0_col1 {\n",
              "            background-color:  yellow;\n",
              "            text-align:  left;\n",
              "        }    #T_4fae1c5a_9889_11ea_b593_0242ac1c0002row0_col2 {\n",
              "            : ;\n",
              "            text-align:  left;\n",
              "        }    #T_4fae1c5a_9889_11ea_b593_0242ac1c0002row0_col3 {\n",
              "            : ;\n",
              "            text-align:  left;\n",
              "        }    #T_4fae1c5a_9889_11ea_b593_0242ac1c0002row0_col4 {\n",
              "            background-color:  yellow;\n",
              "            text-align:  left;\n",
              "        }    #T_4fae1c5a_9889_11ea_b593_0242ac1c0002row0_col5 {\n",
              "            : ;\n",
              "            text-align:  left;\n",
              "        }    #T_4fae1c5a_9889_11ea_b593_0242ac1c0002row0_col6 {\n",
              "            : ;\n",
              "            text-align:  left;\n",
              "        }    #T_4fae1c5a_9889_11ea_b593_0242ac1c0002row1_col0 {\n",
              "            text-align:  left;\n",
              "        }    #T_4fae1c5a_9889_11ea_b593_0242ac1c0002row1_col1 {\n",
              "            background-color:  yellow;\n",
              "            text-align:  left;\n",
              "        }    #T_4fae1c5a_9889_11ea_b593_0242ac1c0002row1_col2 {\n",
              "            : ;\n",
              "            text-align:  left;\n",
              "        }    #T_4fae1c5a_9889_11ea_b593_0242ac1c0002row1_col3 {\n",
              "            : ;\n",
              "            text-align:  left;\n",
              "        }    #T_4fae1c5a_9889_11ea_b593_0242ac1c0002row1_col4 {\n",
              "            : ;\n",
              "            text-align:  left;\n",
              "        }    #T_4fae1c5a_9889_11ea_b593_0242ac1c0002row1_col5 {\n",
              "            background-color:  yellow;\n",
              "            text-align:  left;\n",
              "        }    #T_4fae1c5a_9889_11ea_b593_0242ac1c0002row1_col6 {\n",
              "            background-color:  yellow;\n",
              "            text-align:  left;\n",
              "        }    #T_4fae1c5a_9889_11ea_b593_0242ac1c0002row2_col0 {\n",
              "            text-align:  left;\n",
              "        }    #T_4fae1c5a_9889_11ea_b593_0242ac1c0002row2_col1 {\n",
              "            : ;\n",
              "            text-align:  left;\n",
              "        }    #T_4fae1c5a_9889_11ea_b593_0242ac1c0002row2_col2 {\n",
              "            : ;\n",
              "            text-align:  left;\n",
              "        }    #T_4fae1c5a_9889_11ea_b593_0242ac1c0002row2_col3 {\n",
              "            : ;\n",
              "            text-align:  left;\n",
              "        }    #T_4fae1c5a_9889_11ea_b593_0242ac1c0002row2_col4 {\n",
              "            : ;\n",
              "            text-align:  left;\n",
              "        }    #T_4fae1c5a_9889_11ea_b593_0242ac1c0002row2_col5 {\n",
              "            : ;\n",
              "            text-align:  left;\n",
              "        }    #T_4fae1c5a_9889_11ea_b593_0242ac1c0002row2_col6 {\n",
              "            : ;\n",
              "            text-align:  left;\n",
              "        }    #T_4fae1c5a_9889_11ea_b593_0242ac1c0002row3_col0 {\n",
              "            text-align:  left;\n",
              "        }    #T_4fae1c5a_9889_11ea_b593_0242ac1c0002row3_col1 {\n",
              "            : ;\n",
              "            text-align:  left;\n",
              "        }    #T_4fae1c5a_9889_11ea_b593_0242ac1c0002row3_col2 {\n",
              "            : ;\n",
              "            text-align:  left;\n",
              "        }    #T_4fae1c5a_9889_11ea_b593_0242ac1c0002row3_col3 {\n",
              "            : ;\n",
              "            text-align:  left;\n",
              "        }    #T_4fae1c5a_9889_11ea_b593_0242ac1c0002row3_col4 {\n",
              "            : ;\n",
              "            text-align:  left;\n",
              "        }    #T_4fae1c5a_9889_11ea_b593_0242ac1c0002row3_col5 {\n",
              "            : ;\n",
              "            text-align:  left;\n",
              "        }    #T_4fae1c5a_9889_11ea_b593_0242ac1c0002row3_col6 {\n",
              "            : ;\n",
              "            text-align:  left;\n",
              "        }    #T_4fae1c5a_9889_11ea_b593_0242ac1c0002row4_col0 {\n",
              "            text-align:  left;\n",
              "        }    #T_4fae1c5a_9889_11ea_b593_0242ac1c0002row4_col1 {\n",
              "            : ;\n",
              "            text-align:  left;\n",
              "        }    #T_4fae1c5a_9889_11ea_b593_0242ac1c0002row4_col2 {\n",
              "            background-color:  yellow;\n",
              "            text-align:  left;\n",
              "        }    #T_4fae1c5a_9889_11ea_b593_0242ac1c0002row4_col3 {\n",
              "            : ;\n",
              "            text-align:  left;\n",
              "        }    #T_4fae1c5a_9889_11ea_b593_0242ac1c0002row4_col4 {\n",
              "            : ;\n",
              "            text-align:  left;\n",
              "        }    #T_4fae1c5a_9889_11ea_b593_0242ac1c0002row4_col5 {\n",
              "            : ;\n",
              "            text-align:  left;\n",
              "        }    #T_4fae1c5a_9889_11ea_b593_0242ac1c0002row4_col6 {\n",
              "            : ;\n",
              "            text-align:  left;\n",
              "        }    #T_4fae1c5a_9889_11ea_b593_0242ac1c0002row5_col0 {\n",
              "            text-align:  left;\n",
              "        }    #T_4fae1c5a_9889_11ea_b593_0242ac1c0002row5_col1 {\n",
              "            : ;\n",
              "            text-align:  left;\n",
              "        }    #T_4fae1c5a_9889_11ea_b593_0242ac1c0002row5_col2 {\n",
              "            : ;\n",
              "            text-align:  left;\n",
              "        }    #T_4fae1c5a_9889_11ea_b593_0242ac1c0002row5_col3 {\n",
              "            : ;\n",
              "            text-align:  left;\n",
              "        }    #T_4fae1c5a_9889_11ea_b593_0242ac1c0002row5_col4 {\n",
              "            : ;\n",
              "            text-align:  left;\n",
              "        }    #T_4fae1c5a_9889_11ea_b593_0242ac1c0002row5_col5 {\n",
              "            : ;\n",
              "            text-align:  left;\n",
              "        }    #T_4fae1c5a_9889_11ea_b593_0242ac1c0002row5_col6 {\n",
              "            : ;\n",
              "            text-align:  left;\n",
              "        }    #T_4fae1c5a_9889_11ea_b593_0242ac1c0002row6_col0 {\n",
              "            text-align:  left;\n",
              "        }    #T_4fae1c5a_9889_11ea_b593_0242ac1c0002row6_col1 {\n",
              "            : ;\n",
              "            text-align:  left;\n",
              "        }    #T_4fae1c5a_9889_11ea_b593_0242ac1c0002row6_col2 {\n",
              "            : ;\n",
              "            text-align:  left;\n",
              "        }    #T_4fae1c5a_9889_11ea_b593_0242ac1c0002row6_col3 {\n",
              "            : ;\n",
              "            text-align:  left;\n",
              "        }    #T_4fae1c5a_9889_11ea_b593_0242ac1c0002row6_col4 {\n",
              "            : ;\n",
              "            text-align:  left;\n",
              "        }    #T_4fae1c5a_9889_11ea_b593_0242ac1c0002row6_col5 {\n",
              "            : ;\n",
              "            text-align:  left;\n",
              "        }    #T_4fae1c5a_9889_11ea_b593_0242ac1c0002row6_col6 {\n",
              "            : ;\n",
              "            text-align:  left;\n",
              "        }    #T_4fae1c5a_9889_11ea_b593_0242ac1c0002row7_col0 {\n",
              "            text-align:  left;\n",
              "        }    #T_4fae1c5a_9889_11ea_b593_0242ac1c0002row7_col1 {\n",
              "            : ;\n",
              "            text-align:  left;\n",
              "        }    #T_4fae1c5a_9889_11ea_b593_0242ac1c0002row7_col2 {\n",
              "            : ;\n",
              "            text-align:  left;\n",
              "        }    #T_4fae1c5a_9889_11ea_b593_0242ac1c0002row7_col3 {\n",
              "            : ;\n",
              "            text-align:  left;\n",
              "        }    #T_4fae1c5a_9889_11ea_b593_0242ac1c0002row7_col4 {\n",
              "            : ;\n",
              "            text-align:  left;\n",
              "        }    #T_4fae1c5a_9889_11ea_b593_0242ac1c0002row7_col5 {\n",
              "            : ;\n",
              "            text-align:  left;\n",
              "        }    #T_4fae1c5a_9889_11ea_b593_0242ac1c0002row7_col6 {\n",
              "            : ;\n",
              "            text-align:  left;\n",
              "        }    #T_4fae1c5a_9889_11ea_b593_0242ac1c0002row8_col0 {\n",
              "            text-align:  left;\n",
              "        }    #T_4fae1c5a_9889_11ea_b593_0242ac1c0002row8_col1 {\n",
              "            : ;\n",
              "            text-align:  left;\n",
              "        }    #T_4fae1c5a_9889_11ea_b593_0242ac1c0002row8_col2 {\n",
              "            : ;\n",
              "            text-align:  left;\n",
              "        }    #T_4fae1c5a_9889_11ea_b593_0242ac1c0002row8_col3 {\n",
              "            : ;\n",
              "            text-align:  left;\n",
              "        }    #T_4fae1c5a_9889_11ea_b593_0242ac1c0002row8_col4 {\n",
              "            : ;\n",
              "            text-align:  left;\n",
              "        }    #T_4fae1c5a_9889_11ea_b593_0242ac1c0002row8_col5 {\n",
              "            : ;\n",
              "            text-align:  left;\n",
              "        }    #T_4fae1c5a_9889_11ea_b593_0242ac1c0002row8_col6 {\n",
              "            : ;\n",
              "            text-align:  left;\n",
              "        }    #T_4fae1c5a_9889_11ea_b593_0242ac1c0002row9_col0 {\n",
              "            text-align:  left;\n",
              "        }    #T_4fae1c5a_9889_11ea_b593_0242ac1c0002row9_col1 {\n",
              "            : ;\n",
              "            text-align:  left;\n",
              "        }    #T_4fae1c5a_9889_11ea_b593_0242ac1c0002row9_col2 {\n",
              "            : ;\n",
              "            text-align:  left;\n",
              "        }    #T_4fae1c5a_9889_11ea_b593_0242ac1c0002row9_col3 {\n",
              "            : ;\n",
              "            text-align:  left;\n",
              "        }    #T_4fae1c5a_9889_11ea_b593_0242ac1c0002row9_col4 {\n",
              "            : ;\n",
              "            text-align:  left;\n",
              "        }    #T_4fae1c5a_9889_11ea_b593_0242ac1c0002row9_col5 {\n",
              "            : ;\n",
              "            text-align:  left;\n",
              "        }    #T_4fae1c5a_9889_11ea_b593_0242ac1c0002row9_col6 {\n",
              "            : ;\n",
              "            text-align:  left;\n",
              "        }    #T_4fae1c5a_9889_11ea_b593_0242ac1c0002row10_col0 {\n",
              "            text-align:  left;\n",
              "        }    #T_4fae1c5a_9889_11ea_b593_0242ac1c0002row10_col1 {\n",
              "            : ;\n",
              "            text-align:  left;\n",
              "        }    #T_4fae1c5a_9889_11ea_b593_0242ac1c0002row10_col2 {\n",
              "            : ;\n",
              "            text-align:  left;\n",
              "        }    #T_4fae1c5a_9889_11ea_b593_0242ac1c0002row10_col3 {\n",
              "            : ;\n",
              "            text-align:  left;\n",
              "        }    #T_4fae1c5a_9889_11ea_b593_0242ac1c0002row10_col4 {\n",
              "            : ;\n",
              "            text-align:  left;\n",
              "        }    #T_4fae1c5a_9889_11ea_b593_0242ac1c0002row10_col5 {\n",
              "            : ;\n",
              "            text-align:  left;\n",
              "        }    #T_4fae1c5a_9889_11ea_b593_0242ac1c0002row10_col6 {\n",
              "            : ;\n",
              "            text-align:  left;\n",
              "        }    #T_4fae1c5a_9889_11ea_b593_0242ac1c0002row11_col0 {\n",
              "            text-align:  left;\n",
              "        }    #T_4fae1c5a_9889_11ea_b593_0242ac1c0002row11_col1 {\n",
              "            : ;\n",
              "            text-align:  left;\n",
              "        }    #T_4fae1c5a_9889_11ea_b593_0242ac1c0002row11_col2 {\n",
              "            : ;\n",
              "            text-align:  left;\n",
              "        }    #T_4fae1c5a_9889_11ea_b593_0242ac1c0002row11_col3 {\n",
              "            : ;\n",
              "            text-align:  left;\n",
              "        }    #T_4fae1c5a_9889_11ea_b593_0242ac1c0002row11_col4 {\n",
              "            : ;\n",
              "            text-align:  left;\n",
              "        }    #T_4fae1c5a_9889_11ea_b593_0242ac1c0002row11_col5 {\n",
              "            : ;\n",
              "            text-align:  left;\n",
              "        }    #T_4fae1c5a_9889_11ea_b593_0242ac1c0002row11_col6 {\n",
              "            : ;\n",
              "            text-align:  left;\n",
              "        }    #T_4fae1c5a_9889_11ea_b593_0242ac1c0002row12_col0 {\n",
              "            text-align:  left;\n",
              "        }    #T_4fae1c5a_9889_11ea_b593_0242ac1c0002row12_col1 {\n",
              "            : ;\n",
              "            text-align:  left;\n",
              "        }    #T_4fae1c5a_9889_11ea_b593_0242ac1c0002row12_col2 {\n",
              "            : ;\n",
              "            text-align:  left;\n",
              "        }    #T_4fae1c5a_9889_11ea_b593_0242ac1c0002row12_col3 {\n",
              "            : ;\n",
              "            text-align:  left;\n",
              "        }    #T_4fae1c5a_9889_11ea_b593_0242ac1c0002row12_col4 {\n",
              "            : ;\n",
              "            text-align:  left;\n",
              "        }    #T_4fae1c5a_9889_11ea_b593_0242ac1c0002row12_col5 {\n",
              "            : ;\n",
              "            text-align:  left;\n",
              "        }    #T_4fae1c5a_9889_11ea_b593_0242ac1c0002row12_col6 {\n",
              "            : ;\n",
              "            text-align:  left;\n",
              "        }    #T_4fae1c5a_9889_11ea_b593_0242ac1c0002row13_col0 {\n",
              "            text-align:  left;\n",
              "        }    #T_4fae1c5a_9889_11ea_b593_0242ac1c0002row13_col1 {\n",
              "            : ;\n",
              "            text-align:  left;\n",
              "        }    #T_4fae1c5a_9889_11ea_b593_0242ac1c0002row13_col2 {\n",
              "            : ;\n",
              "            text-align:  left;\n",
              "        }    #T_4fae1c5a_9889_11ea_b593_0242ac1c0002row13_col3 {\n",
              "            : ;\n",
              "            text-align:  left;\n",
              "        }    #T_4fae1c5a_9889_11ea_b593_0242ac1c0002row13_col4 {\n",
              "            : ;\n",
              "            text-align:  left;\n",
              "        }    #T_4fae1c5a_9889_11ea_b593_0242ac1c0002row13_col5 {\n",
              "            : ;\n",
              "            text-align:  left;\n",
              "        }    #T_4fae1c5a_9889_11ea_b593_0242ac1c0002row13_col6 {\n",
              "            : ;\n",
              "            text-align:  left;\n",
              "        }    #T_4fae1c5a_9889_11ea_b593_0242ac1c0002row14_col0 {\n",
              "            text-align:  left;\n",
              "        }    #T_4fae1c5a_9889_11ea_b593_0242ac1c0002row14_col1 {\n",
              "            : ;\n",
              "            text-align:  left;\n",
              "        }    #T_4fae1c5a_9889_11ea_b593_0242ac1c0002row14_col2 {\n",
              "            : ;\n",
              "            text-align:  left;\n",
              "        }    #T_4fae1c5a_9889_11ea_b593_0242ac1c0002row14_col3 {\n",
              "            background-color:  yellow;\n",
              "            text-align:  left;\n",
              "        }    #T_4fae1c5a_9889_11ea_b593_0242ac1c0002row14_col4 {\n",
              "            : ;\n",
              "            text-align:  left;\n",
              "        }    #T_4fae1c5a_9889_11ea_b593_0242ac1c0002row14_col5 {\n",
              "            : ;\n",
              "            text-align:  left;\n",
              "        }    #T_4fae1c5a_9889_11ea_b593_0242ac1c0002row14_col6 {\n",
              "            : ;\n",
              "            text-align:  left;\n",
              "        }</style><table id=\"T_4fae1c5a_9889_11ea_b593_0242ac1c0002\" ><thead>    <tr>        <th class=\"blank level0\" ></th>        <th class=\"col_heading level0 col0\" >Model</th>        <th class=\"col_heading level0 col1\" >Accuracy</th>        <th class=\"col_heading level0 col2\" >AUC</th>        <th class=\"col_heading level0 col3\" >Recall</th>        <th class=\"col_heading level0 col4\" >Prec.</th>        <th class=\"col_heading level0 col5\" >F1</th>        <th class=\"col_heading level0 col6\" >Kappa</th>    </tr></thead><tbody>\n",
              "                <tr>\n",
              "                        <th id=\"T_4fae1c5a_9889_11ea_b593_0242ac1c0002level0_row0\" class=\"row_heading level0 row0\" >0</th>\n",
              "                        <td id=\"T_4fae1c5a_9889_11ea_b593_0242ac1c0002row0_col0\" class=\"data row0 col0\" >Extra Trees Classifier</td>\n",
              "                        <td id=\"T_4fae1c5a_9889_11ea_b593_0242ac1c0002row0_col1\" class=\"data row0 col1\" >0.999600</td>\n",
              "                        <td id=\"T_4fae1c5a_9889_11ea_b593_0242ac1c0002row0_col2\" class=\"data row0 col2\" >0.954700</td>\n",
              "                        <td id=\"T_4fae1c5a_9889_11ea_b593_0242ac1c0002row0_col3\" class=\"data row0 col3\" >0.788300</td>\n",
              "                        <td id=\"T_4fae1c5a_9889_11ea_b593_0242ac1c0002row0_col4\" class=\"data row0 col4\" >0.968600</td>\n",
              "                        <td id=\"T_4fae1c5a_9889_11ea_b593_0242ac1c0002row0_col5\" class=\"data row0 col5\" >0.863500</td>\n",
              "                        <td id=\"T_4fae1c5a_9889_11ea_b593_0242ac1c0002row0_col6\" class=\"data row0 col6\" >0.863300</td>\n",
              "            </tr>\n",
              "            <tr>\n",
              "                        <th id=\"T_4fae1c5a_9889_11ea_b593_0242ac1c0002level0_row1\" class=\"row_heading level0 row1\" >1</th>\n",
              "                        <td id=\"T_4fae1c5a_9889_11ea_b593_0242ac1c0002row1_col0\" class=\"data row1 col0\" >CatBoost Classifier</td>\n",
              "                        <td id=\"T_4fae1c5a_9889_11ea_b593_0242ac1c0002row1_col1\" class=\"data row1 col1\" >0.999600</td>\n",
              "                        <td id=\"T_4fae1c5a_9889_11ea_b593_0242ac1c0002row1_col2\" class=\"data row1 col2\" >0.976600</td>\n",
              "                        <td id=\"T_4fae1c5a_9889_11ea_b593_0242ac1c0002row1_col3\" class=\"data row1 col3\" >0.808800</td>\n",
              "                        <td id=\"T_4fae1c5a_9889_11ea_b593_0242ac1c0002row1_col4\" class=\"data row1 col4\" >0.962600</td>\n",
              "                        <td id=\"T_4fae1c5a_9889_11ea_b593_0242ac1c0002row1_col5\" class=\"data row1 col5\" >0.874700</td>\n",
              "                        <td id=\"T_4fae1c5a_9889_11ea_b593_0242ac1c0002row1_col6\" class=\"data row1 col6\" >0.874500</td>\n",
              "            </tr>\n",
              "            <tr>\n",
              "                        <th id=\"T_4fae1c5a_9889_11ea_b593_0242ac1c0002level0_row2\" class=\"row_heading level0 row2\" >2</th>\n",
              "                        <td id=\"T_4fae1c5a_9889_11ea_b593_0242ac1c0002row2_col0\" class=\"data row2 col0\" >Random Forest Classifier</td>\n",
              "                        <td id=\"T_4fae1c5a_9889_11ea_b593_0242ac1c0002row2_col1\" class=\"data row2 col1\" >0.999500</td>\n",
              "                        <td id=\"T_4fae1c5a_9889_11ea_b593_0242ac1c0002row2_col2\" class=\"data row2 col2\" >0.933200</td>\n",
              "                        <td id=\"T_4fae1c5a_9889_11ea_b593_0242ac1c0002row2_col3\" class=\"data row2 col3\" >0.767700</td>\n",
              "                        <td id=\"T_4fae1c5a_9889_11ea_b593_0242ac1c0002row2_col4\" class=\"data row2 col4\" >0.954300</td>\n",
              "                        <td id=\"T_4fae1c5a_9889_11ea_b593_0242ac1c0002row2_col5\" class=\"data row2 col5\" >0.847600</td>\n",
              "                        <td id=\"T_4fae1c5a_9889_11ea_b593_0242ac1c0002row2_col6\" class=\"data row2 col6\" >0.847400</td>\n",
              "            </tr>\n",
              "            <tr>\n",
              "                        <th id=\"T_4fae1c5a_9889_11ea_b593_0242ac1c0002level0_row3\" class=\"row_heading level0 row3\" >3</th>\n",
              "                        <td id=\"T_4fae1c5a_9889_11ea_b593_0242ac1c0002row3_col0\" class=\"data row3 col0\" >Extreme Gradient Boosting</td>\n",
              "                        <td id=\"T_4fae1c5a_9889_11ea_b593_0242ac1c0002row3_col1\" class=\"data row3 col1\" >0.999500</td>\n",
              "                        <td id=\"T_4fae1c5a_9889_11ea_b593_0242ac1c0002row3_col2\" class=\"data row3 col2\" >0.978400</td>\n",
              "                        <td id=\"T_4fae1c5a_9889_11ea_b593_0242ac1c0002row3_col3\" class=\"data row3 col3\" >0.783800</td>\n",
              "                        <td id=\"T_4fae1c5a_9889_11ea_b593_0242ac1c0002row3_col4\" class=\"data row3 col4\" >0.945700</td>\n",
              "                        <td id=\"T_4fae1c5a_9889_11ea_b593_0242ac1c0002row3_col5\" class=\"data row3 col5\" >0.853000</td>\n",
              "                        <td id=\"T_4fae1c5a_9889_11ea_b593_0242ac1c0002row3_col6\" class=\"data row3 col6\" >0.852800</td>\n",
              "            </tr>\n",
              "            <tr>\n",
              "                        <th id=\"T_4fae1c5a_9889_11ea_b593_0242ac1c0002level0_row4\" class=\"row_heading level0 row4\" >4</th>\n",
              "                        <td id=\"T_4fae1c5a_9889_11ea_b593_0242ac1c0002row4_col0\" class=\"data row4 col0\" >Linear Discriminant Analysis</td>\n",
              "                        <td id=\"T_4fae1c5a_9889_11ea_b593_0242ac1c0002row4_col1\" class=\"data row4 col1\" >0.999300</td>\n",
              "                        <td id=\"T_4fae1c5a_9889_11ea_b593_0242ac1c0002row4_col2\" class=\"data row4 col2\" >0.980400</td>\n",
              "                        <td id=\"T_4fae1c5a_9889_11ea_b593_0242ac1c0002row4_col3\" class=\"data row4 col3\" >0.734500</td>\n",
              "                        <td id=\"T_4fae1c5a_9889_11ea_b593_0242ac1c0002row4_col4\" class=\"data row4 col4\" >0.868700</td>\n",
              "                        <td id=\"T_4fae1c5a_9889_11ea_b593_0242ac1c0002row4_col5\" class=\"data row4 col5\" >0.792700</td>\n",
              "                        <td id=\"T_4fae1c5a_9889_11ea_b593_0242ac1c0002row4_col6\" class=\"data row4 col6\" >0.792400</td>\n",
              "            </tr>\n",
              "            <tr>\n",
              "                        <th id=\"T_4fae1c5a_9889_11ea_b593_0242ac1c0002level0_row5\" class=\"row_heading level0 row5\" >5</th>\n",
              "                        <td id=\"T_4fae1c5a_9889_11ea_b593_0242ac1c0002row5_col0\" class=\"data row5 col0\" >Decision Tree Classifier</td>\n",
              "                        <td id=\"T_4fae1c5a_9889_11ea_b593_0242ac1c0002row5_col1\" class=\"data row5 col1\" >0.999200</td>\n",
              "                        <td id=\"T_4fae1c5a_9889_11ea_b593_0242ac1c0002row5_col2\" class=\"data row5 col2\" >0.898000</td>\n",
              "                        <td id=\"T_4fae1c5a_9889_11ea_b593_0242ac1c0002row5_col3\" class=\"data row5 col3\" >0.796300</td>\n",
              "                        <td id=\"T_4fae1c5a_9889_11ea_b593_0242ac1c0002row5_col4\" class=\"data row5 col4\" >0.767400</td>\n",
              "                        <td id=\"T_4fae1c5a_9889_11ea_b593_0242ac1c0002row5_col5\" class=\"data row5 col5\" >0.778300</td>\n",
              "                        <td id=\"T_4fae1c5a_9889_11ea_b593_0242ac1c0002row5_col6\" class=\"data row5 col6\" >0.777900</td>\n",
              "            </tr>\n",
              "            <tr>\n",
              "                        <th id=\"T_4fae1c5a_9889_11ea_b593_0242ac1c0002level0_row6\" class=\"row_heading level0 row6\" >6</th>\n",
              "                        <td id=\"T_4fae1c5a_9889_11ea_b593_0242ac1c0002row6_col0\" class=\"data row6 col0\" >Ada Boost Classifier</td>\n",
              "                        <td id=\"T_4fae1c5a_9889_11ea_b593_0242ac1c0002row6_col1\" class=\"data row6 col1\" >0.999200</td>\n",
              "                        <td id=\"T_4fae1c5a_9889_11ea_b593_0242ac1c0002row6_col2\" class=\"data row6 col2\" >0.964300</td>\n",
              "                        <td id=\"T_4fae1c5a_9889_11ea_b593_0242ac1c0002row6_col3\" class=\"data row6 col3\" >0.697000</td>\n",
              "                        <td id=\"T_4fae1c5a_9889_11ea_b593_0242ac1c0002row6_col4\" class=\"data row6 col4\" >0.829600</td>\n",
              "                        <td id=\"T_4fae1c5a_9889_11ea_b593_0242ac1c0002row6_col5\" class=\"data row6 col5\" >0.752900</td>\n",
              "                        <td id=\"T_4fae1c5a_9889_11ea_b593_0242ac1c0002row6_col6\" class=\"data row6 col6\" >0.752500</td>\n",
              "            </tr>\n",
              "            <tr>\n",
              "                        <th id=\"T_4fae1c5a_9889_11ea_b593_0242ac1c0002level0_row7\" class=\"row_heading level0 row7\" >7</th>\n",
              "                        <td id=\"T_4fae1c5a_9889_11ea_b593_0242ac1c0002row7_col0\" class=\"data row7 col0\" >Gradient Boosting Classifier</td>\n",
              "                        <td id=\"T_4fae1c5a_9889_11ea_b593_0242ac1c0002row7_col1\" class=\"data row7 col1\" >0.999200</td>\n",
              "                        <td id=\"T_4fae1c5a_9889_11ea_b593_0242ac1c0002row7_col2\" class=\"data row7 col2\" >0.803800</td>\n",
              "                        <td id=\"T_4fae1c5a_9889_11ea_b593_0242ac1c0002row7_col3\" class=\"data row7 col3\" >0.642300</td>\n",
              "                        <td id=\"T_4fae1c5a_9889_11ea_b593_0242ac1c0002row7_col4\" class=\"data row7 col4\" >0.851300</td>\n",
              "                        <td id=\"T_4fae1c5a_9889_11ea_b593_0242ac1c0002row7_col5\" class=\"data row7 col5\" >0.713800</td>\n",
              "                        <td id=\"T_4fae1c5a_9889_11ea_b593_0242ac1c0002row7_col6\" class=\"data row7 col6\" >0.713400</td>\n",
              "            </tr>\n",
              "            <tr>\n",
              "                        <th id=\"T_4fae1c5a_9889_11ea_b593_0242ac1c0002level0_row8\" class=\"row_heading level0 row8\" >8</th>\n",
              "                        <td id=\"T_4fae1c5a_9889_11ea_b593_0242ac1c0002row8_col0\" class=\"data row8 col0\" >Logistic Regression</td>\n",
              "                        <td id=\"T_4fae1c5a_9889_11ea_b593_0242ac1c0002row8_col1\" class=\"data row8 col1\" >0.999100</td>\n",
              "                        <td id=\"T_4fae1c5a_9889_11ea_b593_0242ac1c0002row8_col2\" class=\"data row8 col2\" >0.918100</td>\n",
              "                        <td id=\"T_4fae1c5a_9889_11ea_b593_0242ac1c0002row8_col3\" class=\"data row8 col3\" >0.713700</td>\n",
              "                        <td id=\"T_4fae1c5a_9889_11ea_b593_0242ac1c0002row8_col4\" class=\"data row8 col4\" >0.734000</td>\n",
              "                        <td id=\"T_4fae1c5a_9889_11ea_b593_0242ac1c0002row8_col5\" class=\"data row8 col5\" >0.721700</td>\n",
              "                        <td id=\"T_4fae1c5a_9889_11ea_b593_0242ac1c0002row8_col6\" class=\"data row8 col6\" >0.721200</td>\n",
              "            </tr>\n",
              "            <tr>\n",
              "                        <th id=\"T_4fae1c5a_9889_11ea_b593_0242ac1c0002level0_row9\" class=\"row_heading level0 row9\" >9</th>\n",
              "                        <td id=\"T_4fae1c5a_9889_11ea_b593_0242ac1c0002row9_col0\" class=\"data row9 col0\" >Ridge Classifier</td>\n",
              "                        <td id=\"T_4fae1c5a_9889_11ea_b593_0242ac1c0002row9_col1\" class=\"data row9 col1\" >0.999000</td>\n",
              "                        <td id=\"T_4fae1c5a_9889_11ea_b593_0242ac1c0002row9_col2\" class=\"data row9 col2\" >0.000000</td>\n",
              "                        <td id=\"T_4fae1c5a_9889_11ea_b593_0242ac1c0002row9_col3\" class=\"data row9 col3\" >0.481300</td>\n",
              "                        <td id=\"T_4fae1c5a_9889_11ea_b593_0242ac1c0002row9_col4\" class=\"data row9 col4\" >0.866700</td>\n",
              "                        <td id=\"T_4fae1c5a_9889_11ea_b593_0242ac1c0002row9_col5\" class=\"data row9 col5\" >0.611800</td>\n",
              "                        <td id=\"T_4fae1c5a_9889_11ea_b593_0242ac1c0002row9_col6\" class=\"data row9 col6\" >0.611300</td>\n",
              "            </tr>\n",
              "            <tr>\n",
              "                        <th id=\"T_4fae1c5a_9889_11ea_b593_0242ac1c0002level0_row10\" class=\"row_heading level0 row10\" >10</th>\n",
              "                        <td id=\"T_4fae1c5a_9889_11ea_b593_0242ac1c0002row10_col0\" class=\"data row10 col0\" >K Neighbors Classifier</td>\n",
              "                        <td id=\"T_4fae1c5a_9889_11ea_b593_0242ac1c0002row10_col1\" class=\"data row10 col1\" >0.998400</td>\n",
              "                        <td id=\"T_4fae1c5a_9889_11ea_b593_0242ac1c0002row10_col2\" class=\"data row10 col2\" >0.600400</td>\n",
              "                        <td id=\"T_4fae1c5a_9889_11ea_b593_0242ac1c0002row10_col3\" class=\"data row10 col3\" >0.054000</td>\n",
              "                        <td id=\"T_4fae1c5a_9889_11ea_b593_0242ac1c0002row10_col4\" class=\"data row10 col4\" >0.700000</td>\n",
              "                        <td id=\"T_4fae1c5a_9889_11ea_b593_0242ac1c0002row10_col5\" class=\"data row10 col5\" >0.099500</td>\n",
              "                        <td id=\"T_4fae1c5a_9889_11ea_b593_0242ac1c0002row10_col6\" class=\"data row10 col6\" >0.099300</td>\n",
              "            </tr>\n",
              "            <tr>\n",
              "                        <th id=\"T_4fae1c5a_9889_11ea_b593_0242ac1c0002level0_row11\" class=\"row_heading level0 row11\" >11</th>\n",
              "                        <td id=\"T_4fae1c5a_9889_11ea_b593_0242ac1c0002row11_col0\" class=\"data row11 col0\" >SVM - Linear Kernel</td>\n",
              "                        <td id=\"T_4fae1c5a_9889_11ea_b593_0242ac1c0002row11_col1\" class=\"data row11 col1\" >0.998200</td>\n",
              "                        <td id=\"T_4fae1c5a_9889_11ea_b593_0242ac1c0002row11_col2\" class=\"data row11 col2\" >0.000000</td>\n",
              "                        <td id=\"T_4fae1c5a_9889_11ea_b593_0242ac1c0002row11_col3\" class=\"data row11 col3\" >0.029200</td>\n",
              "                        <td id=\"T_4fae1c5a_9889_11ea_b593_0242ac1c0002row11_col4\" class=\"data row11 col4\" >0.058300</td>\n",
              "                        <td id=\"T_4fae1c5a_9889_11ea_b593_0242ac1c0002row11_col5\" class=\"data row11 col5\" >0.038900</td>\n",
              "                        <td id=\"T_4fae1c5a_9889_11ea_b593_0242ac1c0002row11_col6\" class=\"data row11 col6\" >0.038700</td>\n",
              "            </tr>\n",
              "            <tr>\n",
              "                        <th id=\"T_4fae1c5a_9889_11ea_b593_0242ac1c0002level0_row12\" class=\"row_heading level0 row12\" >12</th>\n",
              "                        <td id=\"T_4fae1c5a_9889_11ea_b593_0242ac1c0002row12_col0\" class=\"data row12 col0\" >Light Gradient Boosting Machine</td>\n",
              "                        <td id=\"T_4fae1c5a_9889_11ea_b593_0242ac1c0002row12_col1\" class=\"data row12 col1\" >0.995300</td>\n",
              "                        <td id=\"T_4fae1c5a_9889_11ea_b593_0242ac1c0002row12_col2\" class=\"data row12 col2\" >0.663800</td>\n",
              "                        <td id=\"T_4fae1c5a_9889_11ea_b593_0242ac1c0002row12_col3\" class=\"data row12 col3\" >0.486500</td>\n",
              "                        <td id=\"T_4fae1c5a_9889_11ea_b593_0242ac1c0002row12_col4\" class=\"data row12 col4\" >0.243600</td>\n",
              "                        <td id=\"T_4fae1c5a_9889_11ea_b593_0242ac1c0002row12_col5\" class=\"data row12 col5\" >0.299400</td>\n",
              "                        <td id=\"T_4fae1c5a_9889_11ea_b593_0242ac1c0002row12_col6\" class=\"data row12 col6\" >0.297700</td>\n",
              "            </tr>\n",
              "            <tr>\n",
              "                        <th id=\"T_4fae1c5a_9889_11ea_b593_0242ac1c0002level0_row13\" class=\"row_heading level0 row13\" >13</th>\n",
              "                        <td id=\"T_4fae1c5a_9889_11ea_b593_0242ac1c0002row13_col0\" class=\"data row13 col0\" >Naive Bayes</td>\n",
              "                        <td id=\"T_4fae1c5a_9889_11ea_b593_0242ac1c0002row13_col1\" class=\"data row13 col1\" >0.993500</td>\n",
              "                        <td id=\"T_4fae1c5a_9889_11ea_b593_0242ac1c0002row13_col2\" class=\"data row13 col2\" >0.965300</td>\n",
              "                        <td id=\"T_4fae1c5a_9889_11ea_b593_0242ac1c0002row13_col3\" class=\"data row13 col3\" >0.647300</td>\n",
              "                        <td id=\"T_4fae1c5a_9889_11ea_b593_0242ac1c0002row13_col4\" class=\"data row13 col4\" >0.159800</td>\n",
              "                        <td id=\"T_4fae1c5a_9889_11ea_b593_0242ac1c0002row13_col5\" class=\"data row13 col5\" >0.255800</td>\n",
              "                        <td id=\"T_4fae1c5a_9889_11ea_b593_0242ac1c0002row13_col6\" class=\"data row13 col6\" >0.253700</td>\n",
              "            </tr>\n",
              "            <tr>\n",
              "                        <th id=\"T_4fae1c5a_9889_11ea_b593_0242ac1c0002level0_row14\" class=\"row_heading level0 row14\" >14</th>\n",
              "                        <td id=\"T_4fae1c5a_9889_11ea_b593_0242ac1c0002row14_col0\" class=\"data row14 col0\" >Quadratic Discriminant Analysis</td>\n",
              "                        <td id=\"T_4fae1c5a_9889_11ea_b593_0242ac1c0002row14_col1\" class=\"data row14 col1\" >0.978600</td>\n",
              "                        <td id=\"T_4fae1c5a_9889_11ea_b593_0242ac1c0002row14_col2\" class=\"data row14 col2\" >0.966100</td>\n",
              "                        <td id=\"T_4fae1c5a_9889_11ea_b593_0242ac1c0002row14_col3\" class=\"data row14 col3\" >0.875300</td>\n",
              "                        <td id=\"T_4fae1c5a_9889_11ea_b593_0242ac1c0002row14_col4\" class=\"data row14 col4\" >0.066800</td>\n",
              "                        <td id=\"T_4fae1c5a_9889_11ea_b593_0242ac1c0002row14_col5\" class=\"data row14 col5\" >0.124100</td>\n",
              "                        <td id=\"T_4fae1c5a_9889_11ea_b593_0242ac1c0002row14_col6\" class=\"data row14 col6\" >0.121200</td>\n",
              "            </tr>\n",
              "    </tbody></table>"
            ],
            "text/plain": [
              "<pandas.io.formats.style.Styler at 0x7f15a182a748>"
            ]
          },
          "metadata": {
            "tags": []
          },
          "execution_count": 13
        }
      ]
    },
    {
      "cell_type": "code",
      "metadata": {
        "id": "jDXFglI9CZcY",
        "colab_type": "code",
        "colab": {
          "base_uri": "https://localhost:8080/",
          "height": 332
        },
        "outputId": "7a24c604-00dc-4f41-fec0-320a2d2f74cb"
      },
      "source": [
        "plt.hist(y)"
      ],
      "execution_count": null,
      "outputs": [
        {
          "output_type": "execute_result",
          "data": {
            "text/plain": [
              "(array([284315.,      0.,      0.,      0.,      0.,      0.,      0.,\n",
              "             0.,      0.,    492.]),\n",
              " array([0. , 0.1, 0.2, 0.3, 0.4, 0.5, 0.6, 0.7, 0.8, 0.9, 1. ]),\n",
              " <a list of 10 Patch objects>)"
            ]
          },
          "metadata": {
            "tags": []
          },
          "execution_count": 5
        },
        {
          "output_type": "display_data",
          "data": {
            "image/png": "[encoded data removed]",
            "text/plain": [
              "<Figure size 432x288 with 1 Axes>"
            ]
          },
          "metadata": {
            "tags": [],
            "needs_background": "light"
          }
        }
      ]
    },
    {
      "cell_type": "code",
      "metadata": {
        "id": "nGrDgbZ3CvKV",
        "colab_type": "code",
        "colab": {
          "base_uri": "https://localhost:8080/",
          "height": 215
        },
        "outputId": "d51a2a3e-6c4c-4647-c7b1-e38228f55266"
      },
      "source": [
        "dataset.head()"
      ],
      "execution_count": null,
      "outputs": [
        {
          "output_type": "execute_result",
          "data": {
            "text/html": [
              "<div>\n",
              "<style scoped>\n",
              "    .dataframe tbody tr th:only-of-type {\n",
              "        vertical-align: middle;\n",
              "    }\n",
              "\n",
              "    .dataframe tbody tr th {\n",
              "        vertical-align: top;\n",
              "    }\n",
              "\n",
              "    .dataframe thead th {\n",
              "        text-align: right;\n",
              "    }\n",
              "</style>\n",
              "<table border=\"1\" class=\"dataframe\">\n",
              "  <thead>\n",
              "    <tr style=\"text-align: right;\">\n",
              "      <th></th>\n",
              "      <th>Time</th>\n",
              "      <th>V1</th>\n",
              "      <th>V2</th>\n",
              "      <th>V3</th>\n",
              "      <th>V4</th>\n",
              "      <th>V5</th>\n",
              "      <th>V6</th>\n",
              "      <th>V7</th>\n",
              "      <th>V8</th>\n",
              "      <th>V9</th>\n",
              "      <th>V10</th>\n",
              "      <th>V11</th>\n",
              "      <th>V12</th>\n",
              "      <th>V13</th>\n",
              "      <th>V14</th>\n",
              "      <th>V15</th>\n",
              "      <th>V16</th>\n",
              "      <th>V17</th>\n",
              "      <th>V18</th>\n",
              "      <th>V19</th>\n",
              "      <th>V20</th>\n",
              "      <th>V21</th>\n",
              "      <th>V22</th>\n",
              "      <th>V23</th>\n",
              "      <th>V24</th>\n",
              "      <th>V25</th>\n",
              "      <th>V26</th>\n",
              "      <th>V27</th>\n",
              "      <th>V28</th>\n",
              "      <th>Amount</th>\n",
              "      <th>Class</th>\n",
              "    </tr>\n",
              "  </thead>\n",
              "  <tbody>\n",
              "    <tr>\n",
              "      <th>0</th>\n",
              "      <td>0.0</td>\n",
              "      <td>-1.359807</td>\n",
              "      <td>-0.072781</td>\n",
              "      <td>2.536347</td>\n",
              "      <td>1.378155</td>\n",
              "      <td>-0.338321</td>\n",
              "      <td>0.462388</td>\n",
              "      <td>0.239599</td>\n",
              "      <td>0.098698</td>\n",
              "      <td>0.363787</td>\n",
              "      <td>0.090794</td>\n",
              "      <td>-0.551600</td>\n",
              "      <td>-0.617801</td>\n",
              "      <td>-0.991390</td>\n",
              "      <td>-0.311169</td>\n",
              "      <td>1.468177</td>\n",
              "      <td>-0.470401</td>\n",
              "      <td>0.207971</td>\n",
              "      <td>0.025791</td>\n",
              "      <td>0.403993</td>\n",
              "      <td>0.251412</td>\n",
              "      <td>-0.018307</td>\n",
              "      <td>0.277838</td>\n",
              "      <td>-0.110474</td>\n",
              "      <td>0.066928</td>\n",
              "      <td>0.128539</td>\n",
              "      <td>-0.189115</td>\n",
              "      <td>0.133558</td>\n",
              "      <td>-0.021053</td>\n",
              "      <td>149.62</td>\n",
              "      <td>0</td>\n",
              "    </tr>\n",
              "    <tr>\n",
              "      <th>1</th>\n",
              "      <td>0.0</td>\n",
              "      <td>1.191857</td>\n",
              "      <td>0.266151</td>\n",
              "      <td>0.166480</td>\n",
              "      <td>0.448154</td>\n",
              "      <td>0.060018</td>\n",
              "      <td>-0.082361</td>\n",
              "      <td>-0.078803</td>\n",
              "      <td>0.085102</td>\n",
              "      <td>-0.255425</td>\n",
              "      <td>-0.166974</td>\n",
              "      <td>1.612727</td>\n",
              "      <td>1.065235</td>\n",
              "      <td>0.489095</td>\n",
              "      <td>-0.143772</td>\n",
              "      <td>0.635558</td>\n",
              "      <td>0.463917</td>\n",
              "      <td>-0.114805</td>\n",
              "      <td>-0.183361</td>\n",
              "      <td>-0.145783</td>\n",
              "      <td>-0.069083</td>\n",
              "      <td>-0.225775</td>\n",
              "      <td>-0.638672</td>\n",
              "      <td>0.101288</td>\n",
              "      <td>-0.339846</td>\n",
              "      <td>0.167170</td>\n",
              "      <td>0.125895</td>\n",
              "      <td>-0.008983</td>\n",
              "      <td>0.014724</td>\n",
              "      <td>2.69</td>\n",
              "      <td>0</td>\n",
              "    </tr>\n",
              "    <tr>\n",
              "      <th>2</th>\n",
              "      <td>1.0</td>\n",
              "      <td>-1.358354</td>\n",
              "      <td>-1.340163</td>\n",
              "      <td>1.773209</td>\n",
              "      <td>0.379780</td>\n",
              "      <td>-0.503198</td>\n",
              "      <td>1.800499</td>\n",
              "      <td>0.791461</td>\n",
              "      <td>0.247676</td>\n",
              "      <td>-1.514654</td>\n",
              "      <td>0.207643</td>\n",
              "      <td>0.624501</td>\n",
              "      <td>0.066084</td>\n",
              "      <td>0.717293</td>\n",
              "      <td>-0.165946</td>\n",
              "      <td>2.345865</td>\n",
              "      <td>-2.890083</td>\n",
              "      <td>1.109969</td>\n",
              "      <td>-0.121359</td>\n",
              "      <td>-2.261857</td>\n",
              "      <td>0.524980</td>\n",
              "      <td>0.247998</td>\n",
              "      <td>0.771679</td>\n",
              "      <td>0.909412</td>\n",
              "      <td>-0.689281</td>\n",
              "      <td>-0.327642</td>\n",
              "      <td>-0.139097</td>\n",
              "      <td>-0.055353</td>\n",
              "      <td>-0.059752</td>\n",
              "      <td>378.66</td>\n",
              "      <td>0</td>\n",
              "    </tr>\n",
              "    <tr>\n",
              "      <th>3</th>\n",
              "      <td>1.0</td>\n",
              "      <td>-0.966272</td>\n",
              "      <td>-0.185226</td>\n",
              "      <td>1.792993</td>\n",
              "      <td>-0.863291</td>\n",
              "      <td>-0.010309</td>\n",
              "      <td>1.247203</td>\n",
              "      <td>0.237609</td>\n",
              "      <td>0.377436</td>\n",
              "      <td>-1.387024</td>\n",
              "      <td>-0.054952</td>\n",
              "      <td>-0.226487</td>\n",
              "      <td>0.178228</td>\n",
              "      <td>0.507757</td>\n",
              "      <td>-0.287924</td>\n",
              "      <td>-0.631418</td>\n",
              "      <td>-1.059647</td>\n",
              "      <td>-0.684093</td>\n",
              "      <td>1.965775</td>\n",
              "      <td>-1.232622</td>\n",
              "      <td>-0.208038</td>\n",
              "      <td>-0.108300</td>\n",
              "      <td>0.005274</td>\n",
              "      <td>-0.190321</td>\n",
              "      <td>-1.175575</td>\n",
              "      <td>0.647376</td>\n",
              "      <td>-0.221929</td>\n",
              "      <td>0.062723</td>\n",
              "      <td>0.061458</td>\n",
              "      <td>123.50</td>\n",
              "      <td>0</td>\n",
              "    </tr>\n",
              "    <tr>\n",
              "      <th>4</th>\n",
              "      <td>2.0</td>\n",
              "      <td>-1.158233</td>\n",
              "      <td>0.877737</td>\n",
              "      <td>1.548718</td>\n",
              "      <td>0.403034</td>\n",
              "      <td>-0.407193</td>\n",
              "      <td>0.095921</td>\n",
              "      <td>0.592941</td>\n",
              "      <td>-0.270533</td>\n",
              "      <td>0.817739</td>\n",
              "      <td>0.753074</td>\n",
              "      <td>-0.822843</td>\n",
              "      <td>0.538196</td>\n",
              "      <td>1.345852</td>\n",
              "      <td>-1.119670</td>\n",
              "      <td>0.175121</td>\n",
              "      <td>-0.451449</td>\n",
              "      <td>-0.237033</td>\n",
              "      <td>-0.038195</td>\n",
              "      <td>0.803487</td>\n",
              "      <td>0.408542</td>\n",
              "      <td>-0.009431</td>\n",
              "      <td>0.798278</td>\n",
              "      <td>-0.137458</td>\n",
              "      <td>0.141267</td>\n",
              "      <td>-0.206010</td>\n",
              "      <td>0.502292</td>\n",
              "      <td>0.219422</td>\n",
              "      <td>0.215153</td>\n",
              "      <td>69.99</td>\n",
              "      <td>0</td>\n",
              "    </tr>\n",
              "  </tbody>\n",
              "</table>\n",
              "</div>"
            ],
            "text/plain": [
              "   Time        V1        V2        V3  ...       V27       V28  Amount  Class\n",
              "0   0.0 -1.359807 -0.072781  2.536347  ...  0.133558 -0.021053  149.62      0\n",
              "1   0.0  1.191857  0.266151  0.166480  ... -0.008983  0.014724    2.69      0\n",
              "2   1.0 -1.358354 -1.340163  1.773209  ... -0.055353 -0.059752  378.66      0\n",
              "3   1.0 -0.966272 -0.185226  1.792993  ...  0.062723  0.061458  123.50      0\n",
              "4   2.0 -1.158233  0.877737  1.548718  ...  0.219422  0.215153   69.99      0\n",
              "\n",
              "[5 rows x 31 columns]"
            ]
          },
          "metadata": {
            "tags": []
          },
          "execution_count": 6
        }
      ]
    },
    {
      "cell_type": "code",
      "metadata": {
        "id": "sqGu74mECZYi",
        "colab_type": "code",
        "colab": {
          "base_uri": "https://localhost:8080/",
          "height": 967
        },
        "outputId": "5d262596-9189-4c6b-cb6f-b03cd3378d04"
      },
      "source": [
        "def plotCorrelationMatrix(df, graphWidth):\n",
        "    filename = 'People Analytics'\n",
        "    df = df[[col for col in df if df[col].nunique() > 1]] # keep columns where there are more than 1 unique values\n",
        "    # print(df.columns)\n",
        "    corr = df.corr()\n",
        "    # print(corr)\n",
        "    plt.figure(num=None, figsize=(graphWidth, graphWidth), dpi=80, facecolor='w', edgecolor='k')\n",
        "    corrMat = plt.matshow(corr, fignum = 1)\n",
        "    plt.xticks(range(len(corr.columns)), corr.columns, rotation=90)\n",
        "    plt.yticks(range(len(corr.columns)), corr.columns)\n",
        "    plt.gca().xaxis.tick_bottom()\n",
        "    plt.colorbar(corrMat)\n",
        "    plt.title(f'Correlation Matrix for {filename}', fontsize=15)\n",
        "    plt.show()\n",
        "\n",
        "plotCorrelationMatrix(dataset, 15)"
      ],
      "execution_count": null,
      "outputs": [
        {
          "output_type": "display_data",
          "data": {
            "image/png": "[encoded data removed]",
            "text/plain": [
              "<Figure size 1200x1200 with 2 Axes>"
            ]
          },
          "metadata": {
            "tags": []
          }
        }
      ]
    },
    {
      "cell_type": "code",
      "metadata": {
        "id": "zBB-YU2SDYmf",
        "colab_type": "code",
        "colab": {}
      },
      "source": [
        "def get_folds(X,y, k=5):\n",
        "    return list(StratifiedKFold(n_splits=k, shuffle=True, random_state=1).split(X, y))"
      ],
      "execution_count": null,
      "outputs": []
    },
    {
      "cell_type": "code",
      "metadata": {
        "id": "qHJ1ICp-DYjD",
        "colab_type": "code",
        "colab": {}
      },
      "source": [
        "folds = get_folds(X, y)\n",
        "fold = folds[0]\n",
        "X_train, X_test, y_train, y_test = X[fold[0]], X[fold[1]], y[fold[0]], y[fold[1]]"
      ],
      "execution_count": null,
      "outputs": []
    },
    {
      "cell_type": "code",
      "metadata": {
        "id": "8FS-0YGcEIM8",
        "colab_type": "code",
        "colab": {
          "base_uri": "https://localhost:8080/",
          "height": 332
        },
        "outputId": "0ce3669c-b853-4049-b6c4-156c0d0f7010"
      },
      "source": [
        "plt.hist(y_train)"
      ],
      "execution_count": null,
      "outputs": [
        {
          "output_type": "execute_result",
          "data": {
            "text/plain": [
              "(array([227452.,      0.,      0.,      0.,      0.,      0.,      0.,\n",
              "             0.,      0.,    393.]),\n",
              " array([0. , 0.1, 0.2, 0.3, 0.4, 0.5, 0.6, 0.7, 0.8, 0.9, 1. ]),\n",
              " <a list of 10 Patch objects>)"
            ]
          },
          "metadata": {
            "tags": []
          },
          "execution_count": 10
        },
        {
          "output_type": "display_data",
          "data": {
            "image/png": "[encoded data removed]",
            "text/plain": [
              "<Figure size 432x288 with 1 Axes>"
            ]
          },
          "metadata": {
            "tags": [],
            "needs_background": "light"
          }
        }
      ]
    },
    {
      "cell_type": "code",
      "metadata": {
        "id": "pUsN8ZYVCZT1",
        "colab_type": "code",
        "colab": {
          "base_uri": "https://localhost:8080/",
          "height": 108
        },
        "outputId": "bea46bc1-a502-43e7-e112-495b5cb4ec2c"
      },
      "source": [
        "from imblearn.over_sampling import SMOTE"
      ],
      "execution_count": null,
      "outputs": [
        {
          "output_type": "stream",
          "text": [
            "/usr/local/lib/python3.6/dist-packages/sklearn/externals/six.py:31: FutureWarning: The module is deprecated in version 0.21 and will be removed in version 0.23 since we've dropped support for Python 2.7. Please rely on the official version of six (https://pypi.org/project/six/).\n",
            "  \"(https://pypi.org/project/six/).\", FutureWarning)\n",
            "/usr/local/lib/python3.6/dist-packages/sklearn/utils/deprecation.py:144: FutureWarning: The sklearn.neighbors.base module is  deprecated in version 0.22 and will be removed in version 0.24. The corresponding classes / functions should instead be imported from sklearn.neighbors. Anything that cannot be imported from sklearn.neighbors is now part of the private API.\n",
            "  warnings.warn(message, FutureWarning)\n"
          ],
          "name": "stderr"
        }
      ]
    },
    {
      "cell_type": "code",
      "metadata": {
        "id": "kTZOeuP4CZP5",
        "colab_type": "code",
        "colab": {
          "base_uri": "https://localhost:8080/",
          "height": 52
        },
        "outputId": "4d2f286d-e14c-4a25-8a61-fa1415a79b0d"
      },
      "source": [
        "smote = SMOTE('minority')\n",
        "X_train_sampled, y_train_sampled = smote.fit_sample(X_train, y_train)"
      ],
      "execution_count": null,
      "outputs": [
        {
          "output_type": "stream",
          "text": [
            "/usr/local/lib/python3.6/dist-packages/sklearn/utils/deprecation.py:87: FutureWarning: Function safe_indexing is deprecated; safe_indexing is deprecated in version 0.22 and will be removed in version 0.24.\n",
            "  warnings.warn(msg, category=FutureWarning)\n"
          ],
          "name": "stderr"
        }
      ]
    },
    {
      "cell_type": "code",
      "metadata": {
        "id": "PSoMN3HkEYXD",
        "colab_type": "code",
        "colab": {
          "base_uri": "https://localhost:8080/",
          "height": 35
        },
        "outputId": "83cbb89d-894b-4346-89a9-56201de6f415"
      },
      "source": [
        "y_train"
      ],
      "execution_count": null,
      "outputs": [
        {
          "output_type": "execute_result",
          "data": {
            "text/plain": [
              "array([0, 0, 0, ..., 0, 0, 0])"
            ]
          },
          "metadata": {
            "tags": []
          },
          "execution_count": 14
        }
      ]
    },
    {
      "cell_type": "code",
      "metadata": {
        "id": "jlWWgjLtCZJs",
        "colab_type": "code",
        "colab": {
          "base_uri": "https://localhost:8080/",
          "height": 336
        },
        "outputId": "dfa1d2da-8882-47db-8e73-66afe312fc5a"
      },
      "source": [
        "plt.hist(y_train)"
      ],
      "execution_count": null,
      "outputs": [
        {
          "output_type": "execute_result",
          "data": {
            "text/plain": [
              "(array([227452.,      0.,      0.,      0.,      0.,      0.,      0.,\n",
              "             0.,      0.,    393.]),\n",
              " array([0. , 0.1, 0.2, 0.3, 0.4, 0.5, 0.6, 0.7, 0.8, 0.9, 1. ]),\n",
              " <a list of 10 Patch objects>)"
            ]
          },
          "metadata": {
            "tags": []
          },
          "execution_count": 15
        },
        {
          "output_type": "display_data",
          "data": {
            "image/png": "[encoded data removed]",
            "text/plain": [
              "<Figure size 432x288 with 1 Axes>"
            ]
          },
          "metadata": {
            "tags": [],
            "needs_background": "light"
          }
        }
      ]
    },
    {
      "cell_type": "code",
      "metadata": {
        "id": "eG0ncnqqCZFF",
        "colab_type": "code",
        "colab": {}
      },
      "source": [
        "from sklearn.decomposition import PCA"
      ],
      "execution_count": null,
      "outputs": []
    },
    {
      "cell_type": "code",
      "metadata": {
        "id": "m9Ki_IAUCZAQ",
        "colab_type": "code",
        "colab": {}
      },
      "source": [
        "pca = PCA(n_components=2)\n",
        "X_train_pca = pca.fit_transform(X_train)\n",
        "X_test_pca = pca.transform(X_test)"
      ],
      "execution_count": null,
      "outputs": []
    },
    {
      "cell_type": "code",
      "metadata": {
        "id": "2OQjEK8yCY6n",
        "colab_type": "code",
        "colab": {
          "base_uri": "https://localhost:8080/",
          "height": 70
        },
        "outputId": "1a977313-7209-48fa-eb24-332b56186d35"
      },
      "source": [
        "pd.Series(pca.explained_variance_ratio_)"
      ],
      "execution_count": null,
      "outputs": [
        {
          "output_type": "execute_result",
          "data": {
            "text/plain": [
              "0    0.999973\n",
              "1    0.000027\n",
              "dtype: float64"
            ]
          },
          "metadata": {
            "tags": []
          },
          "execution_count": 18
        }
      ]
    },
    {
      "cell_type": "code",
      "metadata": {
        "id": "tkXynBFVF0AW",
        "colab_type": "code",
        "colab": {}
      },
      "source": [
        "X_train_pca = pd.DataFrame(X_train_pca)\n",
        "X_test_pca = pd.DataFrame(X_test_pca)"
      ],
      "execution_count": null,
      "outputs": []
    },
    {
      "cell_type": "code",
      "metadata": {
        "id": "0nP4ZR78CYzH",
        "colab_type": "code",
        "colab": {
          "base_uri": "https://localhost:8080/",
          "height": 592
        },
        "outputId": "0534cf8b-27d6-4b78-9f00-35c87d71c7f5"
      },
      "source": [
        "plt.figure(figsize=(15,10))\n",
        "plt.scatter(X_train_pca.iloc[np.where(y_train == 1)][0], X_train_pca.iloc[np.where(y_train == 1)][1], c = 'r', marker='o')\n",
        "plt.scatter(X_train_pca.iloc[np.where(y_train == 0)][0], X_train_pca.iloc[np.where(y_train == 0)][1], c = 'b', marker='.')\n",
        "plt.show()"
      ],
      "execution_count": null,
      "outputs": [
        {
          "output_type": "display_data",
          "data": {
            "image/png": "[encoded data removed]",
            "text/plain": [
              "<Figure size 1080x720 with 1 Axes>"
            ]
          },
          "metadata": {
            "tags": [],
            "needs_background": "light"
          }
        }
      ]
    },
    {
      "cell_type": "code",
      "metadata": {
        "id": "hbNe-rhnHGMG",
        "colab_type": "code",
        "colab": {}
      },
      "source": [
        "from sklearn.utils import class_weight\n",
        "weights = class_weight.compute_class_weight('balanced', np.unique(y_train), y_train)\n",
        "nlabels = len(np.unique(y_train))\n",
        "weights_dict = { i: weights[i] for i in range(nlabels)}"
      ],
      "execution_count": null,
      "outputs": []
    },
    {
      "cell_type": "code",
      "metadata": {
        "id": "9A-lkGjvHGIf",
        "colab_type": "code",
        "colab": {}
      },
      "source": [
        "clf1 = LogisticRegression(C=0.1, class_weight=weights_dict, random_state=0)\n",
        "clf2 = RandomForestClassifier(500, class_weight=weights_dict ,random_state=0)\n",
        "clf3 = XGBClassifier(n_estimators=250, n_jobs=-1)\n",
        "clf4 = GaussianNB()\n",
        "clf5 = SVC(C=0.1, kernel='rbf',random_state=0, probability=True, class_weight=weights_dict)\n",
        "clf = VotingClassifier(estimators=[('lr', clf1), ('rf', clf2), ('xgb', clf3), ('gnb', clf4), ('svc', clf5)], voting='soft')\n",
        "\n",
        "clf.fit(X_train_pca, y_train)\n",
        "y_pred = clf.predict(X_test_pca)\n",
        "print (confusion_matrix(y_test, y_pred))\n",
        "\n",
        "target_names = [0,1]\n",
        "print(classification_report(y_test, y_pred, target_names))\n",
        "\n",
        "cohen_kappa_score(y_test, y_pred)"
      ],
      "execution_count": null,
      "outputs": []
    },
    {
      "cell_type": "code",
      "metadata": {
        "id": "Axk76ZZ6HGFw",
        "colab_type": "code",
        "colab": {}
      },
      "source": [
        ""
      ],
      "execution_count": null,
      "outputs": []
    },
    {
      "cell_type": "code",
      "metadata": {
        "id": "urQ1pYXbHGC0",
        "colab_type": "code",
        "colab": {}
      },
      "source": [
        ""
      ],
      "execution_count": null,
      "outputs": []
    },
    {
      "cell_type": "code",
      "metadata": {
        "id": "Jkcxs3w9HF_j",
        "colab_type": "code",
        "colab": {}
      },
      "source": [
        ""
      ],
      "execution_count": null,
      "outputs": []
    },
    {
      "cell_type": "code",
      "metadata": {
        "id": "wArwUZLvHF7X",
        "colab_type": "code",
        "colab": {}
      },
      "source": [
        ""
      ],
      "execution_count": null,
      "outputs": []
    },
    {
      "cell_type": "code",
      "metadata": {
        "id": "Sqm-gjKZHF4U",
        "colab_type": "code",
        "colab": {}
      },
      "source": [
        ""
      ],
      "execution_count": null,
      "outputs": []
    },
    {
      "cell_type": "code",
      "metadata": {
        "id": "lH-Q8pjGCYpR",
        "colab_type": "code",
        "colab": {}
      },
      "source": [
        ""
      ],
      "execution_count": null,
      "outputs": []
    },
    {
      "cell_type": "code",
      "metadata": {
        "id": "x2RFmJudCW0g",
        "colab_type": "code",
        "colab": {}
      },
      "source": [
        "\n",
        "# #separating positive examples\n",
        "# positive_x = []\n",
        "# positive_y = []\n",
        "# negative_x = []\n",
        "# negative_y = []\n",
        "# for i in range(len(y)):\n",
        "#     if y[i] == 1 :\n",
        "#         positive_x.append(X[i])\n",
        "#         positive_y.append(y[i])\n",
        "#     else :\n",
        "#         negative_x.append(X[i])\n",
        "#         negative_y.append(y[i])\n",
        "\n",
        "# #splitting dataset\n",
        "# from sklearn.model_selection import train_test_split\n",
        "# X_train, X_test, y_train, y_test = train_test_split(\n",
        "#         negative_x, negative_y, test_size=0.2, random_state=42)\n",
        "\n",
        "# #Adding the positive examples to test set\n",
        "# X_test.extend(positive_x)\n",
        "# y_test.extend(positive_y)\n",
        "\n",
        "# #Feature Scaling\n",
        "# from sklearn.preprocessing import StandardScaler\n",
        "# sc_X = StandardScaler()\n",
        "# X_train = sc_X.fit_transform(X_train)\n",
        "# X_test = sc_X.transform(X_test)\n",
        "\n",
        "# #Calculating mean for each feature\n",
        "# Mean_X_train = []\n",
        "# for i in range(X_train.shape[1]):\n",
        "#   Mean_X_train.append(X_train[:, i].mean()) \n",
        "\n",
        "# #Calculating standard deviation for each feature\n",
        "# std_X_train = []\n",
        "# for j in range(X_train.shape[1]):\n",
        "#   std_X_train.append(np.std(X_train[:, j], axis=0)) \n",
        "  \n",
        "# #Calculating the probability of each example in test set\n",
        "# import math\n",
        "# y_pred = []\n",
        "# def norm(x, mean, std):\n",
        "#     variance = float(std)**2\n",
        "#     denom = (2*math.pi*variance)**.5\n",
        "#     numer = math.exp(-(float(x)-float(mean))**2/(2*variance))\n",
        "#     return numer/denom\n",
        "  \n",
        "  \n",
        "# for i in range(len(X_test)):\n",
        "#      p = 1\n",
        "#      for j in range(len(Mean_X_train)):\n",
        "#          p *= norm(X_test[i, j], Mean_X_train[j], std_X_train[j])\n",
        "#      y_pred.append(p)\n"
      ],
      "execution_count": null,
      "outputs": []
    },
    {
      "cell_type": "code",
      "metadata": {
        "id": "FC0vbk_OVh_L",
        "colab_type": "code",
        "colab": {}
      },
      "source": [
        "# print ('Max probability', max(y_pred))\n",
        "# print ('Min probability', min(y_pred))"
      ],
      "execution_count": null,
      "outputs": []
    },
    {
      "cell_type": "code",
      "metadata": {
        "id": "Lu8PsMjkmRu1",
        "colab_type": "code",
        "colab": {}
      },
      "source": [
        "# from sklearn.metrics import precision_score, recall_score, f1_score\n",
        "# from sklearn.metrics import confusion_matrix"
      ],
      "execution_count": null,
      "outputs": []
    },
    {
      "cell_type": "code",
      "metadata": {
        "id": "Y-O0VRbllqza",
        "colab_type": "code",
        "colab": {}
      },
      "source": [
        "# y_out = []\n",
        "# for i in range(len(y_pred)):\n",
        "#     if y_pred[i] < 9.914460408105776e-28 :\n",
        "#         y_out.append(1) \n",
        "#     else:\n",
        "#         y_out.append(0)\n",
        "        \n",
        "# #checking efficiency with confusion matrix\n",
        "# print (confusion_matrix(y_test, y_out))\n",
        "# print ('Precision Score = ', precision_score(y_test, y_out))\n",
        "# print ('Recall Score = ', recall_score(y_test, y_out))\n",
        "# print ('F1 Score = ', f1_score(y_test, y_out))"
      ],
      "execution_count": null,
      "outputs": []
    },
    {
      "cell_type": "code",
      "metadata": {
        "id": "mbiu-9hKs9FA",
        "colab_type": "code",
        "colab": {}
      },
      "source": [
        "# y_out = []\n",
        "# for i in range(len(y_pred)):\n",
        "#     if y_pred[i] < 9.914460408105776e-21:\n",
        "#         y_out.append(1) \n",
        "#     else:\n",
        "#         y_out.append(0)\n",
        "        \n",
        "# #checking efficiency with confusion matrix\n",
        "# from sklearn.metrics import confusion_matrix\n",
        "# confusion_matrix(y_test, y_out)"
      ],
      "execution_count": null,
      "outputs": []
    },
    {
      "cell_type": "code",
      "metadata": {
        "id": "Cl4n0Et-rcGA",
        "colab_type": "code",
        "colab": {}
      },
      "source": [
        "# #Calculating the probability of each exaple in training set\n",
        "# import scipy.stats\n",
        "# y_train_pred = []\n",
        "# for i in range(len(X_train)):\n",
        "#     p = 1\n",
        "#     for j in range(len(Mean_X_train)):\n",
        "#         p *= scipy.stats.norm(Mean_X_train[j], std_X_train[j]).pdf(X_train[i, j])\n",
        "#     y_train_pred.append(p)"
      ],
      "execution_count": null,
      "outputs": []
    },
    {
      "cell_type": "code",
      "metadata": {
        "id": "AEqI3HzGX1jA",
        "colab_type": "code",
        "colab": {}
      },
      "source": [
        "# import statsmodels.formula.api as sm\n",
        "# X = np.append(arr = np.ones((len(X), 1)).astype(int), values = X, axis =1)\n",
        "# X_opt = X[:, :]\n",
        "# regressor_OLS = sm.OLS(endog = y, exog = X_opt).fit()\n",
        "# regressor_OLS.summary()"
      ],
      "execution_count": null,
      "outputs": []
    },
    {
      "cell_type": "code",
      "metadata": {
        "id": "6DmotDtFZUYb",
        "colab_type": "code",
        "colab": {}
      },
      "source": [
        "# # Visualising the Training set results\n",
        "# plt.scatter(X_train[:, 0], y_train, marker= 'x',color = 'red')\n",
        "# plt.scatter(X_train[:, 0], y_train_pred, marker= '.', color = 'blue')\n",
        "# plt.show()\n",
        "\n",
        "# # Visualising the Test set results\n",
        "# plt.scatter(X_test[:, 0], y_test, marker= 'x', color = 'red')\n",
        "# plt.scatter(X_train[:, 0], y_train_pred, marker= '.', color = 'blue')\n",
        "# plt.show()"
      ],
      "execution_count": null,
      "outputs": []
    },
    {
      "cell_type": "code",
      "metadata": {
        "id": "eWVIvzQhaxIP",
        "colab_type": "code",
        "colab": {}
      },
      "source": [
        "# # Visualising the Training set results\n",
        "# plt.scatter(X_train[:, 1], y_train, color = 'red')\n",
        "# plt.plot(X_train[:, 1], y_train_pred, color = 'blue')\n",
        "# # plt.title('Salary vs Experience (Training set)')\n",
        "# # plt.xlabel('Years of Experience')\n",
        "# # plt.ylabel('Salary')\n",
        "# plt.show()\n",
        "\n",
        "# # Visualising the Test set results\n",
        "# plt.scatter(X_test[:, 1], y_test, marker= 'x', color = 'red')\n",
        "# plt.plot(X_train[:, 1], y_train_pred, color = 'blue')\n",
        "# # plt.title('Salary vs Experience (Test set)')\n",
        "# # plt.xlabel('Years of Experience')\n",
        "# # plt.ylabel('Salary')\n",
        "# plt.show()"
      ],
      "execution_count": null,
      "outputs": []
    },
    {
      "cell_type": "code",
      "metadata": {
        "id": "rF8MGG6Kbumr",
        "colab_type": "code",
        "colab": {}
      },
      "source": [
        "# # Visualising the Training set results\n",
        "# plt.scatter(X_train[:, 2], y_train, marker= 'x',color = 'red')\n",
        "# plt.scatter(X_train[:, 2], y_train_pred, marker= '.', color = 'blue')\n",
        "# plt.show()\n",
        "\n",
        "# # Visualising the Test set results\n",
        "# plt.scatter(X_test[:, 2], y_test, marker= 'x', color = 'red')\n",
        "# plt.scatter(X_train[:, 2], y_train_pred, marker= '.', color = 'blue')\n",
        "# plt.show()"
      ],
      "execution_count": null,
      "outputs": []
    },
    {
      "cell_type": "code",
      "metadata": {
        "id": "_xy_qBIkwyNc",
        "colab_type": "code",
        "colab": {}
      },
      "source": [
        "# #Feature Scaling\n",
        "# from sklearn.preprocessing import StandardScaler\n",
        "# sc_X = StandardScaler()\n",
        "# X_train = sc_X.fit_transform(X_train)\n",
        "# X_test = sc_X.transform(X_test)\n",
        "# sc_y = StandardScaler()\n",
        "# y_train = sc_y.fit_transform(y_train)"
      ],
      "execution_count": null,
      "outputs": []
    },
    {
      "cell_type": "code",
      "metadata": {
        "id": "QrlZmO3JfpK_",
        "colab_type": "code",
        "colab": {}
      },
      "source": [
        "# Mean_X_train = []\n",
        "# for i in range(len(X_train)):\n",
        "#   Mean_X_train.append(X_train[i].mean()) "
      ],
      "execution_count": null,
      "outputs": []
    },
    {
      "cell_type": "code",
      "metadata": {
        "id": "CDlly9TUk7JU",
        "colab_type": "code",
        "colab": {}
      },
      "source": [
        "# std_X_train = []\n",
        "# for j in range(len(X_train)):\n",
        "#   std_X_train.append(np.std(X_train[j], axis=0)) "
      ],
      "execution_count": null,
      "outputs": []
    },
    {
      "cell_type": "code",
      "metadata": {
        "id": "cz5DhhVSnO7T",
        "colab_type": "code",
        "colab": {}
      },
      "source": [
        "# import scipy.stats\n",
        "# prob = []\n",
        "# for k in range(len(Mean_X_train)):\n",
        "  \n",
        "#   l = scipy.stats.norm(Mean_X_train[k], std_X_train[k]).pdf(k)\n",
        "#   prob.append(l)"
      ],
      "execution_count": null,
      "outputs": []
    },
    {
      "cell_type": "code",
      "metadata": {
        "id": "f-8aassPqqcC",
        "colab_type": "code",
        "colab": {}
      },
      "source": [
        "# MAX_X = []\n",
        "# MIN_X = []\n",
        "# for i in range(len(X_train)):\n",
        "#   MAX_X.append(max(X_train[i]))\n",
        "#   MIN_X.append(min(X_train[i])) "
      ],
      "execution_count": null,
      "outputs": []
    },
    {
      "cell_type": "code",
      "metadata": {
        "id": "LZjSE9XCSgrm",
        "colab_type": "code",
        "colab": {}
      },
      "source": [
        "# X_grid = np.arange(MIN_X, MAX_X, 0.01)\n",
        "# len(MAX_X)"
      ],
      "execution_count": null,
      "outputs": []
    },
    {
      "cell_type": "code",
      "metadata": {
        "id": "ZTP1WBbEVlSQ",
        "colab_type": "code",
        "colab": {}
      },
      "source": [
        "# len(y_test)"
      ],
      "execution_count": null,
      "outputs": []
    }
  ]
}